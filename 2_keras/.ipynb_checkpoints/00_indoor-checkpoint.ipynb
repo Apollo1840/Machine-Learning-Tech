{
 "cells": [
  {
   "cell_type": "code",
   "execution_count": 2,
   "metadata": {},
   "outputs": [],
   "source": [
    "import numpy as np\n",
    "from random import randint\n",
    "from sklearn.preprocessing import MinMaxScaler"
   ]
  },
  {
   "cell_type": "code",
   "execution_count": 2,
   "metadata": {},
   "outputs": [],
   "source": [
    "# data\n",
    "train_labels = []   \n",
    "train_samples = []\n",
    "for i in range(1000):\n",
    "    train_labels.append(0)\n",
    "    train_samples.append(randint(13, 64))\n",
    "    train_labels.append(1)\n",
    "    train_samples.append(randint(65, 100))\n",
    "for i in range(50):\n",
    "    train_labels.append(1)\n",
    "    train_samples.append(randint(13, 64))\n",
    "    train_labels.append(0)\n",
    "    train_samples.append(randint(65, 100))\n",
    "    \n",
    "train_labels = np.array(train_labels)\n",
    "train_samples = np.array(train_samples)"
   ]
  },
  {
   "cell_type": "code",
   "execution_count": 3,
   "metadata": {},
   "outputs": [],
   "source": [
    "# preprocessing\n",
    "scaler = MinMaxScaler(feature_range=(0,1))\n",
    "scaled_train_samples = scaler.fit_transform(train_samples.reshape(-1,1))"
   ]
  },
  {
   "cell_type": "markdown",
   "metadata": {},
   "source": [
    "here you need to focus on the format of the data:\n",
    "\n",
    "there are array, and the first dimension is data point."
   ]
  },
  {
   "cell_type": "code",
   "execution_count": 3,
   "metadata": {
    "collapsed": true
   },
   "outputs": [
    {
     "name": "stderr",
     "output_type": "stream",
     "text": [
      "Using TensorFlow backend.\n"
     ]
    }
   ],
   "source": [
    "import keras\n",
    "from keras.models import Sequential\n",
    "from keras.layers import Activation\n",
    "from keras.layers.core import Dense\n",
    "from keras.optimizers import Adam, RMSprop \n",
    "\n",
    "# from keras.metrics import categorical_crossentropy"
   ]
  },
  {
   "cell_type": "code",
   "execution_count": 5,
   "metadata": {
    "collapsed": true
   },
   "outputs": [
    {
     "name": "stderr",
     "output_type": "stream",
     "text": [
      "WARNING: Logging before flag parsing goes to stderr.\n",
      "W0707 21:58:15.051014 16788 deprecation_wrapper.py:119] From D:\\virtualenvs\\congyuml\\lib\\site-packages\\keras\\backend\\tensorflow_backend.py:74: The name tf.get_default_graph is deprecated. Please use tf.compat.v1.get_default_graph instead.\n",
      "\n",
      "W0707 21:58:15.301363 16788 deprecation_wrapper.py:119] From D:\\virtualenvs\\congyuml\\lib\\site-packages\\keras\\backend\\tensorflow_backend.py:517: The name tf.placeholder is deprecated. Please use tf.compat.v1.placeholder instead.\n",
      "\n",
      "W0707 21:58:15.336318 16788 deprecation_wrapper.py:119] From D:\\virtualenvs\\congyuml\\lib\\site-packages\\keras\\backend\\tensorflow_backend.py:4138: The name tf.random_uniform is deprecated. Please use tf.random.uniform instead.\n",
      "\n"
     ]
    }
   ],
   "source": [
    "# build model\n",
    "model = Sequential([\n",
    "    Dense(16, input_shape=(1,), activation=\"relu\"),\n",
    "    Dense(32, activation=\"relu\"),\n",
    "    Dense(2, activation=\"softmax\")\n",
    "])\n",
    "\n",
    "# another way\n",
    "model = Sequential()\n",
    "model.add(Dense(16, input_shape=(1,), activation = \"relu\"))\n",
    "model.add(Dense(2, activation=\"relu\"))\n",
    "model.add(Dense(2, activation=\"softmax\"))"
   ]
  },
  {
   "cell_type": "code",
   "execution_count": 6,
   "metadata": {
    "collapsed": true
   },
   "outputs": [
    {
     "name": "stdout",
     "output_type": "stream",
     "text": [
      "_________________________________________________________________\n",
      "Layer (type)                 Output Shape              Param #   \n",
      "=================================================================\n",
      "dense_4 (Dense)              (None, 16)                32        \n",
      "_________________________________________________________________\n",
      "dense_5 (Dense)              (None, 2)                 34        \n",
      "_________________________________________________________________\n",
      "dense_6 (Dense)              (None, 2)                 6         \n",
      "=================================================================\n",
      "Total params: 72\n",
      "Trainable params: 72\n",
      "Non-trainable params: 0\n",
      "_________________________________________________________________\n"
     ]
    }
   ],
   "source": [
    "model.summary()"
   ]
  },
  {
   "cell_type": "code",
   "execution_count": 7,
   "metadata": {
    "collapsed": true
   },
   "outputs": [
    {
     "name": "stderr",
     "output_type": "stream",
     "text": [
      "W0707 21:58:15.503868 16788 deprecation_wrapper.py:119] From D:\\virtualenvs\\congyuml\\lib\\site-packages\\keras\\optimizers.py:790: The name tf.train.Optimizer is deprecated. Please use tf.compat.v1.train.Optimizer instead.\n",
      "\n",
      "W0707 21:58:15.508928 16788 deprecation_wrapper.py:119] From D:\\virtualenvs\\congyuml\\lib\\site-packages\\keras\\backend\\tensorflow_backend.py:3341: The name tf.log is deprecated. Please use tf.math.log instead.\n",
      "\n"
     ]
    }
   ],
   "source": [
    "model.compile(Adam(lr=0.001),\n",
    "              loss='sparse_categorical_crossentropy', \n",
    "              metrics=[\"accuracy\"])"
   ]
  },
  {
   "cell_type": "code",
   "execution_count": 11,
   "metadata": {
    "collapsed": true
   },
   "outputs": [
    {
     "name": "stdout",
     "output_type": "stream",
     "text": [
      "Epoch 1/20\n",
      " - 0s - loss: 0.2323 - acc: 0.9410\n",
      "Epoch 2/20\n",
      " - 0s - loss: 0.2305 - acc: 0.9424\n",
      "Epoch 3/20\n",
      " - 0s - loss: 0.2287 - acc: 0.9433\n",
      "Epoch 4/20\n",
      " - 0s - loss: 0.2275 - acc: 0.9443\n",
      "Epoch 5/20\n",
      " - 0s - loss: 0.2258 - acc: 0.9419\n",
      "Epoch 6/20\n",
      " - 0s - loss: 0.2260 - acc: 0.9424\n",
      "Epoch 7/20\n",
      " - 0s - loss: 0.2244 - acc: 0.9476\n",
      "Epoch 8/20\n",
      " - 0s - loss: 0.2238 - acc: 0.9414\n",
      "Epoch 9/20\n",
      " - 0s - loss: 0.2227 - acc: 0.9457\n",
      "Epoch 10/20\n",
      " - 0s - loss: 0.2217 - acc: 0.9486\n",
      "Epoch 11/20\n",
      " - 0s - loss: 0.2211 - acc: 0.9390\n",
      "Epoch 12/20\n",
      " - 0s - loss: 0.2205 - acc: 0.9452\n",
      "Epoch 13/20\n",
      " - 0s - loss: 0.2197 - acc: 0.9433\n",
      "Epoch 14/20\n",
      " - 0s - loss: 0.2190 - acc: 0.9462\n",
      "Epoch 15/20\n",
      " - 0s - loss: 0.2188 - acc: 0.9457\n",
      "Epoch 16/20\n",
      " - 0s - loss: 0.2178 - acc: 0.9481\n",
      "Epoch 17/20\n",
      " - 0s - loss: 0.2172 - acc: 0.9462\n",
      "Epoch 18/20\n",
      " - 0s - loss: 0.2174 - acc: 0.9462\n",
      "Epoch 19/20\n",
      " - 0s - loss: 0.2164 - acc: 0.9448\n",
      "Epoch 20/20\n",
      " - 0s - loss: 0.2166 - acc: 0.9457\n"
     ]
    },
    {
     "data": {
      "text/plain": [
       "<keras.callbacks.History at 0x1c773bea5f8>"
      ]
     },
     "execution_count": 11,
     "metadata": {},
     "output_type": "execute_result"
    }
   ],
   "source": [
    "model.fit(x=scaled_train_samples, \n",
    "          y=train_labels, \n",
    "          batch_size=10, \n",
    "          epochs=20, \n",
    "          #shuffle=True,\n",
    "          verbose=2\n",
    "         )\n",
    "\n",
    "# verbose: Integer. 0, 1, or 2. Verbosity mode. \n",
    "# 0 = silent, \n",
    "# 1 = progress bar, \n",
    "# 2 = one line per epoch.\n",
    "# epochs is to be understood as \"final epoch\". \n",
    "# validation_data will override validation_split"
   ]
  },
  {
   "cell_type": "code",
   "execution_count": 12,
   "metadata": {
    "collapsed": true
   },
   "outputs": [
    {
     "name": "stdout",
     "output_type": "stream",
     "text": [
      "Train on 1680 samples, validate on 420 samples\n",
      "Epoch 1/1\n",
      "1680/1680 [==============================] - 0s 187us/step - loss: 0.0818 - acc: 0.9940 - val_loss: 0.7646 - val_acc: 0.7619\n"
     ]
    },
    {
     "data": {
      "text/plain": [
       "<keras.callbacks.History at 0x1c76e0a45f8>"
      ]
     },
     "execution_count": 12,
     "metadata": {},
     "output_type": "execute_result"
    }
   ],
   "source": [
    "# consider validation\n",
    "model.fit(x=scaled_train_samples,\n",
    "          y=train_labels,\n",
    "          epochs=5,\n",
    "          validation_split=0.2)\n",
    "\n",
    "# validation with valiation data set\n",
    "# validation_dataset = [(sample_data, label_data), (sample_data, label_data), ...]\n",
    "validation_dataset = [(i, j) for i,j in zip(scaled_train_samples[-100:], train_labels[-100:])]\n",
    "model.fit(x=scaled_train_samples,\n",
    "          y=train_labels,\n",
    "          epochs=5,\n",
    "          validation_dataset=validation_dataset)"
   ]
  },
  {
   "cell_type": "code",
   "execution_count": 13,
   "metadata": {
    "collapsed": true
   },
   "outputs": [
    {
     "data": {
      "text/plain": [
       "array([[0.9645827 , 0.03541731],\n",
       "       [0.05118062, 0.9488194 ],\n",
       "       [0.96862787, 0.0313721 ],\n",
       "       [0.05118062, 0.9488194 ],\n",
       "       [0.9538437 , 0.04615625],\n",
       "       [0.05118062, 0.9488194 ],\n",
       "       [0.97979957, 0.02020046],\n",
       "       [0.07285822, 0.9271417 ],\n",
       "       [0.97659403, 0.02340591],\n",
       "       [0.05118062, 0.9488194 ],\n",
       "       [0.97979957, 0.02020046],\n",
       "       [0.05118062, 0.9488194 ],\n",
       "       [0.9748102 , 0.02518984],\n",
       "       [0.05118062, 0.9488194 ],\n",
       "       [0.9580668 , 0.04193313],\n",
       "       [0.32054546, 0.6794545 ],\n",
       "       [0.9722244 , 0.0277756 ],\n",
       "       [0.05118062, 0.9488194 ],\n",
       "       [0.9708365 , 0.02916346],\n",
       "       [0.05118062, 0.9488194 ],\n",
       "       [0.97716093, 0.02283913],\n",
       "       [0.05118062, 0.9488194 ],\n",
       "       [0.8159493 , 0.18405065],\n",
       "       [0.05118062, 0.9488194 ],\n",
       "       [0.978782  , 0.02121807],\n",
       "       [0.05118062, 0.9488194 ],\n",
       "       [0.96862787, 0.0313721 ],\n",
       "       [0.05118062, 0.9488194 ],\n",
       "       [0.95158315, 0.0484168 ],\n",
       "       [0.05118062, 0.9488194 ],\n",
       "       [0.97716093, 0.02283913],\n",
       "       [0.05118062, 0.9488194 ],\n",
       "       [0.9728941 , 0.02710595],\n",
       "       [0.05118062, 0.9488194 ],\n",
       "       [0.97153866, 0.02846131],\n",
       "       [0.05118062, 0.9488194 ],\n",
       "       [0.9492179 , 0.0507821 ],\n",
       "       [0.2315916 , 0.76840836],\n",
       "       [0.8159493 , 0.18405065],\n",
       "       [0.10953401, 0.890466  ],\n",
       "       [0.9708365 , 0.02916346],\n",
       "       [0.16145688, 0.83854306],\n",
       "       [0.8159493 , 0.18405065],\n",
       "       [0.05118062, 0.9488194 ],\n",
       "       [0.91569984, 0.08430019],\n",
       "       [0.05118062, 0.9488194 ],\n",
       "       [0.9754191 , 0.02458094],\n",
       "       [0.05118062, 0.9488194 ],\n",
       "       [0.96706647, 0.03293358],\n",
       "       [0.05118062, 0.9488194 ],\n",
       "       [0.9645827 , 0.03541731],\n",
       "       [0.05118062, 0.9488194 ],\n",
       "       [0.8159493 , 0.18405065],\n",
       "       [0.05118062, 0.9488194 ],\n",
       "       [0.97354805, 0.02645198],\n",
       "       [0.05118062, 0.9488194 ],\n",
       "       [0.9812369 , 0.01876308],\n",
       "       [0.42477942, 0.5752206 ],\n",
       "       [0.9754191 , 0.02458094],\n",
       "       [0.05118062, 0.9488194 ],\n",
       "       [0.96543   , 0.03456998],\n",
       "       [0.05118062, 0.9488194 ],\n",
       "       [0.87404686, 0.12595314],\n",
       "       [0.05118062, 0.9488194 ],\n",
       "       [0.9741866 , 0.02581341],\n",
       "       [0.05118062, 0.9488194 ],\n",
       "       [0.96706647, 0.03293358],\n",
       "       [0.2315916 , 0.76840836],\n",
       "       [0.95600367, 0.04399639],\n",
       "       [0.05118062, 0.9488194 ],\n",
       "       [0.9645827 , 0.03541731],\n",
       "       [0.05118062, 0.9488194 ],\n",
       "       [0.95600367, 0.04399639],\n",
       "       [0.05118062, 0.9488194 ],\n",
       "       [0.91569984, 0.08430019],\n",
       "       [0.05118062, 0.9488194 ],\n",
       "       [0.961919  , 0.03808101],\n",
       "       [0.05118062, 0.9488194 ],\n",
       "       [0.5361608 , 0.46383914],\n",
       "       [0.05118062, 0.9488194 ],\n",
       "       [0.94445354, 0.05554647],\n",
       "       [0.05118062, 0.9488194 ],\n",
       "       [0.95041394, 0.04958608],\n",
       "       [0.05118062, 0.9488194 ],\n",
       "       [0.97601354, 0.02398641],\n",
       "       [0.05118062, 0.9488194 ],\n",
       "       [0.9600374 , 0.03996263],\n",
       "       [0.05118062, 0.9488194 ],\n",
       "       [0.6440484 , 0.35595164],\n",
       "       [0.05118062, 0.9488194 ],\n",
       "       [0.95272636, 0.04727368],\n",
       "       [0.05118062, 0.9488194 ],\n",
       "       [0.97929686, 0.02070315],\n",
       "       [0.05118062, 0.9488194 ],\n",
       "       [0.97716093, 0.02283913],\n",
       "       [0.05118062, 0.9488194 ],\n",
       "       [0.9701176 , 0.02988237],\n",
       "       [0.05118062, 0.9488194 ],\n",
       "       [0.978782  , 0.02121807],\n",
       "       [0.05118062, 0.9488194 ]], dtype=float32)"
      ]
     },
     "execution_count": 13,
     "metadata": {},
     "output_type": "execute_result"
    }
   ],
   "source": [
    "model.predict(scaled_train_samples[-100:])"
   ]
  },
  {
   "cell_type": "code",
   "execution_count": 14,
   "metadata": {},
   "outputs": [
    {
     "data": {
      "text/plain": [
       "array([0, 1, 0, 1, 0, 1, 0, 1, 0, 1, 0, 1, 0, 1, 0, 1, 0, 1, 0, 1, 0, 1,\n",
       "       0, 1, 0, 1, 0, 1, 0, 1, 0, 1, 0, 1, 0, 1, 0, 1, 0, 1, 0, 1, 0, 1,\n",
       "       0, 1, 0, 1, 0, 1, 0, 1, 0, 1, 0, 1, 0, 1, 0, 1, 0, 1, 0, 1, 0, 1,\n",
       "       0, 1, 0, 1, 0, 1, 0, 1, 0, 1, 0, 1, 0, 1, 0, 1, 0, 1, 0, 1, 0, 1,\n",
       "       0, 1, 0, 1, 0, 1, 0, 1, 0, 1, 0, 1], dtype=int64)"
      ]
     },
     "execution_count": 14,
     "metadata": {},
     "output_type": "execute_result"
    }
   ],
   "source": [
    "model.predict_classes(scaled_train_samples[-100:])"
   ]
  },
  {
   "cell_type": "markdown",
   "metadata": {},
   "source": [
    "# save and load model"
   ]
  },
  {
   "cell_type": "code",
   "execution_count": 17,
   "metadata": {},
   "outputs": [
    {
     "name": "stdout",
     "output_type": "stream",
     "text": [
      "D:\\PyProjects\\Machine-Learning-Tech\\storage\n"
     ]
    }
   ],
   "source": [
    "import os\n",
    "PROJECT_FOLDER = os.path.join(os.path.dirname(os.getcwd()), \"storage\")\n",
    "os.chdir(PROJECT_FOLDER)\n",
    "print(os.getcwd())"
   ]
  },
  {
   "cell_type": "code",
   "execution_count": null,
   "metadata": {},
   "outputs": [],
   "source": [
    "from keras.models import load_model"
   ]
  },
  {
   "cell_type": "code",
   "execution_count": null,
   "metadata": {},
   "outputs": [],
   "source": [
    "model.save(\"dummie_model.h5\")\n",
    "model = load_model(\"dummie_model.h5\")"
   ]
  },
  {
   "cell_type": "code",
   "execution_count": null,
   "metadata": {},
   "outputs": [],
   "source": [
    "# another way, save model shape and weights differently\n",
    "import json\n",
    "from keras.models import model_from_json"
   ]
  },
  {
   "cell_type": "code",
   "execution_count": null,
   "metadata": {},
   "outputs": [],
   "source": [
    "# save\n",
    "json_string = model.to_json()\n",
    "with open(\"dummie_model.json\", \"w\") as f:\n",
    "    json.dump(json_string, f)\n",
    "\n",
    "model.save_weights(\"dummie_model_weights.h5\")\n",
    "# ---------------------------------------------\n",
    "# load\n",
    "with open(\"dummie_model.json\", \"r\") as f:\n",
    "    model = model_form_json(json.load(f))\n",
    "\n",
    "model.load_weights(\"dummie_model_weights.h5\")"
   ]
  },
  {
   "cell_type": "markdown",
   "metadata": {},
   "source": [
    "# more examples"
   ]
  },
  {
   "cell_type": "markdown",
   "metadata": {},
   "source": [
    "## (1) linear model"
   ]
  },
  {
   "cell_type": "markdown",
   "metadata": {},
   "source": [
    "-- data --"
   ]
  },
  {
   "cell_type": "code",
   "execution_count": 4,
   "metadata": {},
   "outputs": [
    {
     "data": {
      "image/png": "[encoded data removed]",
      "text/plain": [
       "<Figure size 432x288 with 1 Axes>"
      ]
     },
     "metadata": {
      "needs_background": "light"
     },
     "output_type": "display_data"
    }
   ],
   "source": [
    "import matplotlib.pyplot as plt\n",
    "\n",
    "X = np.linspace(-1, 1, 200)\n",
    "np.random.shuffle(X)    # randomize the data\n",
    "Y = 0.5 * X + 2 + np.random.normal(0, 0.05, (200, ))\n",
    "\n",
    "# plot data\n",
    "plt.scatter(X, Y)\n",
    "plt.show()"
   ]
  },
  {
   "cell_type": "code",
   "execution_count": 7,
   "metadata": {},
   "outputs": [
    {
     "name": "stdout",
     "output_type": "stream",
     "text": [
      "(160,)\n",
      "(160,)\n"
     ]
    }
   ],
   "source": [
    "X_train, Y_train = X[:160], Y[:160]     # first 160 data points\n",
    "X_test, Y_test = X[160:], Y[160:]       # last 40 data points\n",
    "\n",
    "print(X_train.shape)\n",
    "print(Y_train.shape)"
   ]
  },
  {
   "cell_type": "markdown",
   "metadata": {},
   "source": [
    "-- model --"
   ]
  },
  {
   "cell_type": "code",
   "execution_count": 13,
   "metadata": {},
   "outputs": [
    {
     "name": "stdout",
     "output_type": "stream",
     "text": [
      "_________________________________________________________________\n",
      "Layer (type)                 Output Shape              Param #   \n",
      "=================================================================\n",
      "dense_3 (Dense)              (None, 1)                 2         \n",
      "=================================================================\n",
      "Total params: 2\n",
      "Trainable params: 2\n",
      "Non-trainable params: 0\n",
      "_________________________________________________________________\n"
     ]
    }
   ],
   "source": [
    "model = Sequential()\n",
    "model.add(Dense(1, input_shape=(1,)))\n",
    "\n",
    "model.summary()\n",
    "\n",
    "model.compile(optimizer = \"sgd\", loss= \"mse\")"
   ]
  },
  {
   "cell_type": "code",
   "execution_count": 14,
   "metadata": {},
   "outputs": [
    {
     "name": "stdout",
     "output_type": "stream",
     "text": [
      "{'loss': [0.002819132510921918, 0.0028119832422817126, 0.0028081644777557813]}\n"
     ]
    }
   ],
   "source": [
    "for i in range(30): # replicated training \n",
    "    history = model.fit(X_train, \n",
    "                        Y_train, \n",
    "                        batch_size=50,  # default to be 32 \n",
    "                        epochs=3,\n",
    "                       verbose=0)\n",
    "    # or model.train_on_batch(x,y), it is more recommended\n",
    "\n",
    "print(history.history)\n",
    "# returns the dictionized thing as model.evaluate\n",
    "# print(history.history['loss'])"
   ]
  },
  {
   "cell_type": "code",
   "execution_count": 29,
   "metadata": {},
   "outputs": [
    {
     "name": "stdout",
     "output_type": "stream",
     "text": [
      "40/40 [==============================] - 0s 99us/step\n"
     ]
    },
    {
     "data": {
      "text/plain": [
       "0.025494484696537256"
      ]
     },
     "execution_count": 29,
     "metadata": {},
     "output_type": "execute_result"
    }
   ],
   "source": [
    "# get the loss and metrics\n",
    "model.evaluate(X_test, Y_test, batch_size=10, verbose=0)  "
   ]
  },
  {
   "cell_type": "code",
   "execution_count": 30,
   "metadata": {},
   "outputs": [
    {
     "name": "stdout",
     "output_type": "stream",
     "text": [
      "[[0.7160088]]\n",
      "[1.9426333]\n"
     ]
    }
   ],
   "source": [
    "# get the weights\n",
    "W,b = model.layers[0].get_weights()\n",
    "print(W)\n",
    "print(b)"
   ]
  },
  {
   "cell_type": "markdown",
   "metadata": {},
   "source": [
    "## (2) NN"
   ]
  },
  {
   "cell_type": "markdown",
   "metadata": {},
   "source": [
    "-- data --"
   ]
  },
  {
   "cell_type": "code",
   "execution_count": 50,
   "metadata": {},
   "outputs": [],
   "source": [
    "from keras.datasets import mnist\n",
    "from keras.utils.np_utils import to_categorical"
   ]
  },
  {
   "cell_type": "code",
   "execution_count": 40,
   "metadata": {},
   "outputs": [],
   "source": [
    "(X_train, y_train), (X_test, y_test) = mnist.load_data()\n",
    "\n",
    "print(X_train.shape)\n",
    "print(y_train.shape)\n",
    "\n",
    "# data pre-processing\n",
    "# flat the input data\n",
    "X_train = X_train.reshape(X_train.shape[0], -1) / 255.   # normalize\n",
    "X_test = X_test.reshape(X_test.shape[0], -1) / 255.      # normalize\n",
    "\n",
    "# one-hot output data\n",
    "y_train = to_categorical(y_train, num_classes=10)\n",
    "y_test = to_categorical(y_test, num_classes=10)\n",
    "\n",
    "print(X_train.shape)\n",
    "print(y_train.shape)"
   ]
  },
  {
   "cell_type": "markdown",
   "metadata": {},
   "source": [
    " -- model --"
   ]
  },
  {
   "cell_type": "code",
   "execution_count": 44,
   "metadata": {},
   "outputs": [
    {
     "name": "stdout",
     "output_type": "stream",
     "text": [
      "_________________________________________________________________\n",
      "Layer (type)                 Output Shape              Param #   \n",
      "=================================================================\n",
      "dense_12 (Dense)             (None, 32)                25120     \n",
      "_________________________________________________________________\n",
      "activation_1 (Activation)    (None, 32)                0         \n",
      "_________________________________________________________________\n",
      "dense_13 (Dense)             (None, 10)                330       \n",
      "_________________________________________________________________\n",
      "activation_2 (Activation)    (None, 10)                0         \n",
      "=================================================================\n",
      "Total params: 25,450\n",
      "Trainable params: 25,450\n",
      "Non-trainable params: 0\n",
      "_________________________________________________________________\n"
     ]
    }
   ],
   "source": [
    "model = Sequential([\n",
    "    Dense(32, input_shape=(784,)),\n",
    "    Activation('relu'),\n",
    "    Dense(10),\n",
    "    Activation('softmax'),\n",
    "])\n",
    "model.summary()"
   ]
  },
  {
   "cell_type": "code",
   "execution_count": 47,
   "metadata": {},
   "outputs": [],
   "source": [
    "# Another way to define your optimizer\n",
    "rmsprop = RMSprop(lr=0.001, rho=0.9, epsilon=1e-08, decay=0.0)\n",
    "\n",
    "# We add metrics to get more results you want to see\n",
    "model.compile(optimizer=rmsprop, \n",
    "              loss='categorical_crossentropy', \n",
    "              metrics=['accuracy'])"
   ]
  },
  {
   "cell_type": "code",
   "execution_count": 48,
   "metadata": {
    "collapsed": true
   },
   "outputs": [
    {
     "name": "stdout",
     "output_type": "stream",
     "text": [
      "Epoch 1/2\n",
      "60000/60000 [==============================] - 2s 40us/step - loss: 0.3373 - acc: 0.9065\n",
      "Epoch 2/2\n",
      "60000/60000 [==============================] - 2s 31us/step - loss: 0.1863 - acc: 0.9464\n"
     ]
    },
    {
     "data": {
      "text/plain": [
       "<keras.callbacks.History at 0x1c77a13f5c0>"
      ]
     },
     "execution_count": 48,
     "metadata": {},
     "output_type": "execute_result"
    }
   ],
   "source": [
    "model.fit(X_train, y_train, epochs=2)"
   ]
  },
  {
   "cell_type": "code",
   "execution_count": 49,
   "metadata": {
    "collapsed": true
   },
   "outputs": [
    {
     "name": "stdout",
     "output_type": "stream",
     "text": [
      "10000/10000 [==============================] - 0s 19us/step\n",
      "test loss:  0.1664208527415991\n",
      "test accuracy:  0.9528\n"
     ]
    }
   ],
   "source": [
    "loss, accuracy = model.evaluate(X_test, y_test)\n",
    "\n",
    "print('test loss: ', loss)\n",
    "print('test accuracy: ', accuracy)"
   ]
  }
 ],
 "metadata": {
  "kernelspec": {
   "display_name": "congyuml",
   "language": "python",
   "name": "congyuml"
  },
  "language_info": {
   "codemirror_mode": {
    "name": "ipython",
    "version": 3
   },
   "file_extension": ".py",
   "mimetype": "text/x-python",
   "name": "python",
   "nbconvert_exporter": "python",
   "pygments_lexer": "ipython3",
   "version": "3.7.3"
  }
 },
 "nbformat": 4,
 "nbformat_minor": 2
}
