{
 "cells": [
  {
   "cell_type": "markdown",
   "metadata": {},
   "source": [
    "doc：https://keras.io/zh/backend/\n",
    "\n",
    "others：\n",
    "part of the doc:\n",
    "https://blog.csdn.net/C_chuxin/article/details/87919432\n",
    "\n",
    "somehow list the doc:\n",
    "http://yanjoy.win/2017/10/11/keras-backend/\n",
    "\n",
    "K.function: https://m.youtube.com/watch?v=okCAqDxCXVk\n"
   ]
  },
  {
   "cell_type": "code",
   "execution_count": null,
   "metadata": {},
   "outputs": [],
   "source": [
    "import numpy as np\n",
    "from keras import backend as K"
   ]
  },
  {
   "cell_type": "code",
   "execution_count": null,
   "metadata": {},
   "outputs": [],
   "source": [
    "inputs = K.placeholder(shape=(2, 4, 5))\n",
    "# equals to tf.placeholder\n",
    "\n",
    "# initialize a tf.Variable\n",
    "val = np.random.random((3, 4, 5))\n",
    "var = K.variable(value=val)\n",
    "\n",
    "# 全 0 变量：\n",
    "var = K.zeros(shape=(3, 4, 5))\n",
    "\n",
    "# 全 1 变量：\n",
    "var = K.ones(shape=(3, 4, 5))"
   ]
  },
  {
   "cell_type": "code",
   "execution_count": null,
   "metadata": {},
   "outputs": [],
   "source": [
    "# just like tensorflow:\n",
    "\n",
    "# 使用随机数初始化张量\n",
    "b = K.random_uniform_variable(shape=(3, 4), low=0, high=1) # 均匀分布\n",
    "c = K.random_normal_variable(shape=(3, 4), mean=0, scale=1) # 高斯分布\n",
    "d = K.random_normal_variable(shape=(3, 4), mean=0, scale=1)\n",
    "\n",
    "# 张量运算\n",
    "a = b + c * K.abs(d)\n",
    "c = K.dot(a, K.transpose(b))\n",
    "a = K.sum(b, axis=1)\n",
    "a = K.softmax(b)\n",
    "a = K.concatenate([b, c], axis=-1)"
   ]
  },
  {
   "cell_type": "code",
   "execution_count": null,
   "metadata": {},
   "outputs": [],
   "source": [
    "new_x = np.array([[1, 2], [3, 4]])\n",
    "x = K.variable(value=new_x)\n",
    "print(K.shape(x))\n",
    "print(K.ndim(x))"
   ]
  },
  {
   "cell_type": "code",
   "execution_count": null,
   "metadata": {},
   "outputs": [],
   "source": [
    "new_x = np.array([[1, 2], [3, 4]])\n",
    "x = K.variable(value=val)\n",
    "K.update(x, new_x)\n",
    "# K.update_add(x, increment)\n",
    "# K.moving_average_update(x, value, momentum)"
   ]
  },
  {
   "cell_type": "code",
   "execution_count": null,
   "metadata": {},
   "outputs": [],
   "source": [
    "# more calculation examples:\n",
    "\n",
    "K.dot(x, y)  # (3, 4) * (4, 5) = (3, 5)\n",
    "K.batch_dot(x, y, axes=None)\n",
    "K.max(x, axis=None, keepdims=False)\n",
    "K.sum(x, axis=None, keepdims=False)\n",
    "K.prod(x, axis=None, keepdims=False)\n",
    "\n",
    "K.clip(x, min_value, max_value)\n",
    "K.concatenate(tensors, axis=-1)"
   ]
  },
  {
   "cell_type": "code",
   "execution_count": null,
   "metadata": {},
   "outputs": [],
   "source": [
    "K.epsilon() # 一个浮点数。"
   ]
  },
  {
   "cell_type": "code",
   "execution_count": null,
   "metadata": {},
   "outputs": [],
   "source": [
    "# advance\n",
    "K.set_floatx(\"float32\")\n",
    "K.cast_to_floatx(x)"
   ]
  },
  {
   "cell_type": "code",
   "execution_count": null,
   "metadata": {},
   "outputs": [],
   "source": []
  }
 ],
 "metadata": {
  "kernelspec": {
   "display_name": "congyuml",
   "language": "python",
   "name": "congyuml"
  },
  "language_info": {
   "codemirror_mode": {
    "name": "ipython",
    "version": 3
   },
   "file_extension": ".py",
   "mimetype": "text/x-python",
   "name": "python",
   "nbconvert_exporter": "python",
   "pygments_lexer": "ipython3",
   "version": "3.6.8"
  }
 },
 "nbformat": 4,
 "nbformat_minor": 2
}
