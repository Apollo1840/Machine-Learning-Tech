{
 "cells": [
  {
   "cell_type": "markdown",
   "id": "bfc3ed79",
   "metadata": {},
   "source": [
    "custom layers is basically a simple **nn.Module**.\n",
    "\n",
    "you also need to define .forward() function.\n",
    "\n",
    "but first you need to paramterize your weights in __init__() function:\n"
   ]
  },
  {
   "cell_type": "code",
   "execution_count": null,
   "id": "d746348b",
   "metadata": {},
   "outputs": [],
   "source": [
    "class MyLinearLayer(nn.Module):\n",
    "\n",
    "    def __init__(self, size_in, size_out):\n",
    "        super().__init__()\n",
    "\n",
    "        # init weights\n",
    "        self.weights = nn.Parameter(torch.Tensor(size_out, size_in))\n",
    "        nn.init.kaiming_uniform_(self.weights, a=math.sqrt(5)) \n",
    "\n",
    "    def forward(self, x):\n",
    "        w_times_x = torch.mm(x, self.weights.t())  # matrix multiplication\n",
    "        return y"
   ]
  }
 ],
 "metadata": {
  "kernelspec": {
   "display_name": "congyutf",
   "language": "python",
   "name": "congyutf"
  },
  "language_info": {
   "codemirror_mode": {
    "name": "ipython",
    "version": 3
   },
   "file_extension": ".py",
   "mimetype": "text/x-python",
   "name": "python",
   "nbconvert_exporter": "python",
   "pygments_lexer": "ipython3",
   "version": "3.9.5"
  }
 },
 "nbformat": 4,
 "nbformat_minor": 5
}
