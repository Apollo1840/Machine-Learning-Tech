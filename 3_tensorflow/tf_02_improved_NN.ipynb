{
 "cells": [
  {
   "cell_type": "code",
   "execution_count": null,
   "metadata": {},
   "outputs": [],
   "source": [
    "import tensorflow as tf\n",
    "import numpy as np\n",
    "import matplotlib.pyplot as plt"
   ]
  },
  {
   "cell_type": "code",
   "execution_count": null,
   "metadata": {},
   "outputs": [],
   "source": [
    "# data\n",
    "# if data is less, NN will work extremely bad\n",
    "# also, y should not be too big better between 0 and 1\n",
    "x = np.linspace(-10,10,num=200)[:,None]   # [:,None] make the x.shape to be (30,1)\n",
    "y = -0.1*x + 0.2*x**2 + 0.3*x**3 + 20*np.random.randn(200,1)\n",
    "plt.plot(x,y,'o')\n",
    "plt.show()\n",
    "\n",
    "# data preprocessing\n",
    "from sklearn.model_selection import train_test_split\n",
    "x_data = x\n",
    "y_data = y\n",
    "x_train, x_test, y_train, y_test = train_test_split(x,y)\n"
   ]
  },
  {
   "cell_type": "code",
   "execution_count": 1,
   "metadata": {},
   "outputs": [
    {
     "data": {
      "text/plain": [
       "<Figure size 640x480 with 1 Axes>"
      ]
     },
     "metadata": {},
     "output_type": "display_data"
    }
   ],
   "source": [
    "# ---------------------------------------------------------------------\n",
    "# 1. a more flexible way to build NN:\n",
    "\n",
    "x_dim = x_train.shape[1]\n",
    "y_dim = y_train.shape[1]\n",
    "\n",
    "x = tf.placeholder(tf.float32, [x_dim, None])\n",
    "y = tf.placeholder(tf.float32, [y_dim, None])\n",
    "\n",
    "\n",
    "n = [x_dim]\n",
    "w = [None]\n",
    "b = [None]\n",
    "z = [None]\n",
    "a = [x]    \n",
    "\n",
    "    \n",
    "p=1\n",
    "n.append(20)\n",
    "w.append(tf.Variable(tf.random_normal([n[p],n[p-1]])))\n",
    "b.append(tf.Variable(tf.zeros([n[p],1])))\n",
    "z.append(tf.matmul(w[p],a[p-1])+b[p])\n",
    "a.append(tf.nn.tanh(z[p]))\n",
    "# a.append(tf.nn.dropout(tf.nn.tanh(z[p]), keep_prob = 0.5))\n",
    "\n",
    "p=p+1\n",
    "n.append(5)\n",
    "# w.append(tf.Variable(tf.random_normal([n[p],n[p-1]])))\n",
    "# better initialization:\n",
    "w.append(tf.Variable(tf.random_normal([n[p],n[p-1]])*(tf.sqrt(1/n[p-1]))))\n",
    "\n",
    "b.append(tf.Variable(tf.zeros([n[p],1])))\n",
    "z.append(tf.matmul(w[p],a[p-1])+b[p])\n",
    "a.append(tf.nn.tanh(z[p]))\n",
    "# a.append(tf.nn.dropout(tf.nn.tanh(z[p]), keep_prob = 0.8))\n",
    "\n",
    "p=p+1\n",
    "n.append(y_dim)\n",
    "w.append(tf.Variable(tf.random_normal([n[p],n[p-1]])))\n",
    "b.append(tf.Variable(tf.zeros([n[p],1])))\n",
    "z.append(tf.matmul(w[p],a[p-1])+b[p])\n",
    "\n",
    "# # batch normalization\n",
    "# scale = tf.Variable(tf.ones([n[p],1]))\n",
    "# shift = tf.Variable(tf.zeros([n[p],1]))\n",
    "# fc_mean, fc_var = tf.nn.moments(z[p], axis = 1)\n",
    "# z[p] = tf.nn.batch_normalization(z[p], z_mean, z_var, shift, scale, episilon=10e-5)\n",
    "\n",
    "a.append(z[p])\n",
    "\n",
    "loss = tf.reduce_mean(tf.square(a[p]-y)/10**3)"
   ]
  },
  {
   "cell_type": "markdown",
   "metadata": {},
   "source": [
    "# regularization"
   ]
  },
  {
   "cell_type": "code",
   "execution_count": 2,
   "metadata": {},
   "outputs": [
    {
     "name": "stderr",
     "output_type": "stream",
     "text": [
      "WARNING: Logging before flag parsing goes to stderr.\n",
      "W0711 00:33:41.795242 16444 deprecation.py:323] From D:\\virtualenvs\\congyuml\\lib\\site-packages\\tensorflow\\python\\util\\tf_should_use.py:193: initialize_all_variables (from tensorflow.python.ops.variables) is deprecated and will be removed after 2017-03-02.\n",
      "Instructions for updating:\n",
      "Use `tf.global_variables_initializer` instead.\n"
     ]
    },
    {
     "name": "stdout",
     "output_type": "stream",
     "text": [
      "11.154662\n",
      "6.3706183\n",
      "3.944875\n",
      "2.701841\n",
      "2.022284\n",
      "1.6029636\n",
      "1.3827182\n",
      "1.2110381\n",
      "1.1186118\n",
      "1.0774466\n"
     ]
    },
    {
     "data": {
      "image/png": "[encoded data removed]",
      "text/plain": [
       "<Figure size 432x288 with 1 Axes>"
      ]
     },
     "metadata": {
      "needs_background": "light"
     },
     "output_type": "display_data"
    },
    {
     "name": "stdout",
     "output_type": "stream",
     "text": [
      "1.0407996\n",
      "1.2184277\n"
     ]
    }
   ],
   "source": [
    "# here shows an example of how to use regularization\n",
    "\n",
    "beta = 10**(-4)\n",
    "for i in range(len(w)):\n",
    "    if i > 0:\n",
    "        loss += beta * tf.nn.l2_loss(w[i])\n",
    "\n",
    "optimizer = tf.train.AdamOptimizer(0.1)\n",
    "train     = optimizer.minimize(loss)\n",
    "\n",
    "init = tf.initialize_all_variables()\n",
    "\n",
    "with tf.Session() as sess:\n",
    "    sess.run(init)\n",
    "    for i in range(1000):\n",
    "        sess.run(train, feed_dict={x: x_train.T, y: y_train.T})\n",
    "        if i%100 == 0:\n",
    "            print(sess.run(loss, feed_dict={x: x_train.T, y: y_train.T}))\n",
    "    y_predict  = sess.run(a[p], feed_dict={x: x_data.T})\n",
    "    loss_train = sess.run(loss, feed_dict={x: x_train.T, y: y_train.T})\n",
    "    loss_test  = sess.run(loss, feed_dict={x: x_test.T, y: y_test.T})\n",
    "\n",
    "plt.scatter(x_data, y_data)\n",
    "rl = sorted(list(zip(x_data.ravel(),y_predict.ravel())))\n",
    "plt.plot([i for i,j in rl], [j for i,j in rl], 'r-', lw=5)\n",
    "plt.show()\n",
    "\n",
    "print(loss_train)\n",
    "print(loss_test)"
   ]
  },
  {
   "cell_type": "markdown",
   "metadata": {},
   "source": [
    "# dropout"
   ]
  },
  {
   "cell_type": "code",
   "execution_count": null,
   "metadata": {},
   "outputs": [],
   "source": [
    "# here shows an example of how to use dropout\n",
    "nb_n_1 = 500\n",
    "w1   = tf.Variable(tf.truncated_normal([n_dim, nb_n_1], stddev = 0.1))\n",
    "b1   = tf.Variable(tf.zeros([nb_n_1]) + 0.1)\n",
    "l1_1 = tf.nn.tanh(tf.matmul(pic, w1) + b1)\n",
    "l1   = tf.nn.dropout(l1_1, keep_prob=1)"
   ]
  },
  {
   "cell_type": "markdown",
   "metadata": {},
   "source": [
    "# better initialization"
   ]
  },
  {
   "cell_type": "code",
   "execution_count": null,
   "metadata": {},
   "outputs": [],
   "source": [
    "# let var(w) = 1/n\n",
    "nb_n_2 = 300\n",
    "w2 = tf.Variable(tf.truncated_normal([nb_n, nb_n_2], stddev = 1/np.sqrt(nb_n_2)))\n",
    "b2 = tf.Variable(tf.zeros([nb_n_2]) + 0.1)\n",
    "l2 = tf.nn.tanh(tf.matmul(l1, w2) + b2)\n",
    "nb_n = nb_n_2\n",
    "\n",
    "# in relu, let var(w) = 2/n\n",
    "w2 = tf.Variable(tf.truncated_normal([nb_n, nb_n_2], stddev = 2/np.sqrt(nb_n_2)))\n",
    "b2 = tf.Variable(tf.zeros([nb_n_2]) + 0.1)\n",
    "l2 = tf.nn.relu(tf.matmul(l1, w2) + b2)\n",
    "\n",
    "# There are more complex stddevs.\n",
    "\n",
    "# we can also tun this, if we want a fast starting NN\n",
    "w2 = tf.Variable(tf.truncated_normal([nb_n, nb_n_2], stddev = fast_start_parameter/np.sqrt(nb_n_2)))\n",
    "b2 = tf.Variable(tf.zeros([nb_n_2]) + 0.1)\n",
    "l2 = tf.nn.relu(tf.matmul(l1, w2) + b2)"
   ]
  },
  {
   "cell_type": "code",
   "execution_count": null,
   "metadata": {},
   "outputs": [],
   "source": [
    "# ---------------------------------------------------------------------\n",
    "# 4. mini-batch\n",
    "\n",
    "# Norm batch"
   ]
  }
 ],
 "metadata": {
  "kernelspec": {
   "display_name": "congyuml",
   "language": "python",
   "name": "congyuml"
  },
  "language_info": {
   "codemirror_mode": {
    "name": "ipython",
    "version": 3
   },
   "file_extension": ".py",
   "mimetype": "text/x-python",
   "name": "python",
   "nbconvert_exporter": "python",
   "pygments_lexer": "ipython3",
   "version": "3.7.3"
  }
 },
 "nbformat": 4,
 "nbformat_minor": 2
}
