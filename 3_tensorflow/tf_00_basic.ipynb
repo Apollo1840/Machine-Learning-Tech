{
 "cells": [
  {
   "cell_type": "markdown",
   "metadata": {},
   "source": [
    "# 0. how tf works\n"
   ]
  },
  {
   "cell_type": "code",
   "execution_count": null,
   "metadata": {},
   "outputs": [],
   "source": [
    "import tensorflow as tf\n",
    "import numpy as np\n",
    "\n",
    "data = np.array([[1,2,3],[4,5,6]])\n",
    "\n",
    "# computational graph\n",
    "x1 = tf.placeholder(tf.float32, [1,3])\n",
    "x2 = tf.placeholder(tf.float32, [3,1]) \n",
    "product = tf.matmul(x1, x2)\n",
    "\n",
    "with tf.Session() as sess:\n",
    "    print(sess.run(product, feed_dict={x1:data[0].reshape(1,3), x2:data[1].reshape(3,1)}))\n",
    "# note: reshape is necessary because (3,) can not work\n"
   ]
  },
  {
   "cell_type": "markdown",
   "metadata": {},
   "source": [
    "# 1, how to use tf to do optimization"
   ]
  },
  {
   "cell_type": "code",
   "execution_count": 2,
   "metadata": {
    "collapsed": true
   },
   "outputs": [
    {
     "name": "stdout",
     "output_type": "stream",
     "text": [
      "[[4.548004]]\n",
      "[[3.9937818]]\n",
      "[[3.4813943]]\n",
      "[[3.0111895]]\n",
      "[[2.58324]]\n",
      "[[2.1972888]]\n",
      "[[1.852696]]\n",
      "[[1.5483943]]\n",
      "[[1.2828496]]\n",
      "[[1.0540416]]\n",
      "[[0.859477]]\n",
      "[[0.6962363]]\n",
      "[[0.5610655]]\n",
      "[[0.45050633]]\n",
      "[[0.36105222]]\n",
      "[[0.28931138]]\n",
      "[[0.23215154]]\n",
      "[[0.18680808]]\n",
      "[[0.15094331]]\n",
      "[[0.1226583]]\n",
      "[[0.10046376]]\n",
      "[[0.08322419]]\n",
      "[[0.07008944]]\n",
      "[[0.06042261]]\n",
      "[[0.05373403]]\n",
      "[[0.04962483]]\n",
      "[[0.04774213]]\n",
      "[[0.04774556]]\n",
      "[[0.04928582]]\n",
      "[[0.05199301]]\n",
      "[[0.05547567]]\n",
      "[[0.05932719]]\n",
      "[[0.06313992]]\n",
      "[[0.06652404]]\n",
      "[[0.06912927]]\n",
      "[[0.07066666]]\n",
      "[[0.07092696]]\n",
      "[[0.06979437]]\n",
      "[[0.06725241]]\n",
      "[[0.0633823]]\n",
      "[[0.05835298]]\n",
      "[[0.05240463]]\n",
      "[[0.04582684]]\n",
      "[[0.03893412]]\n",
      "[[0.0320412]]\n",
      "[[0.02543996]]\n",
      "[[0.01938017]]\n",
      "[[0.01405534]]\n",
      "[[0.00959417]]\n",
      "[[0.00605838]]\n",
      "[[0.0034457]]\n",
      "[[0.00169804]]\n",
      "[[0.00071306]]\n",
      "[[0.0003579]]\n",
      "[[0.00048367]]\n",
      "[[0.0009392]]\n",
      "[[0.00158292]]\n",
      "[[0.00229208]]\n",
      "[[0.00296871]]\n",
      "[[0.00354243]]\n",
      "[[0.00397022]]\n",
      "[[0.00423376]]\n",
      "[[0.00433503]]\n",
      "[[0.00429089]]\n",
      "[[0.00412754]]\n",
      "[[0.0038753]]\n",
      "[[0.00356431]]\n",
      "[[0.00322137]]\n",
      "[[0.00286808]]\n",
      "[[0.00252015]]\n",
      "[[0.00218769]]\n",
      "[[0.00187619]]\n",
      "[[0.00158783]]\n",
      "[[0.00132295]]\n",
      "[[0.00108123]]\n",
      "[[0.0008626]]\n",
      "[[0.00066766]]\n",
      "[[0.0004978]]\n",
      "[[0.00035479]]\n",
      "[[0.00024038]]\n",
      "[[0.00015567]]\n",
      "[[0.00010058]]\n",
      "[[7.356103e-05]]\n",
      "[[7.1419985e-05]]\n",
      "[[8.950787e-05]]\n",
      "[[0.00012206]]\n",
      "[[0.00016272]]\n",
      "[[0.00020517]]\n",
      "[[0.0002437]]\n",
      "[[0.00027372]]\n",
      "[[0.0002921]]\n",
      "[[0.00029733]]\n",
      "[[0.00028949]]\n",
      "[[0.00027004]]\n",
      "[[0.00024145]]\n",
      "[[0.00020682]]\n",
      "[[0.00016944]]\n",
      "[[0.00013238]]\n",
      "[[9.822959e-05]]\n",
      "[[6.8852474e-05]]\n",
      "\n",
      "w suppose to be [2,2], we got:  [[2.0020485 2.008041 ]]\n"
     ]
    }
   ],
   "source": [
    "data = np.array([2, 2]).reshape(1,-1)\n",
    "\n",
    "# computational graph\n",
    "x = tf.placeholder(tf.float32, [1, None]) # None means dont know\n",
    "w = tf.Variable(tf.random_normal([1, 2]))\n",
    "cost = tf.matmul(x-w, tf.transpose((x-w), [1,0])) \n",
    "\n",
    "# more complex computational graph -> a training step\n",
    "optimizer = tf.train.AdamOptimizer(0.1)\n",
    "train_step = optimizer.minimize(cost)\n",
    "\n",
    "with tf.Session() as sess:\n",
    "    # since we use Variable we need to initialize it\n",
    "    sess.run(tf.initializers.global_variables())  \n",
    "    \n",
    "    for _ in range(100):\n",
    "        sess.run(train_step, feed_dict={x: data})\n",
    "        print(sess.run(cost, feed_dict={x: data}))\n",
    "    print('\\nw suppose to be [2,2], we got: ', sess.run(w))"
   ]
  },
  {
   "cell_type": "markdown",
   "metadata": {},
   "source": [
    "# bonus"
   ]
  },
  {
   "cell_type": "code",
   "execution_count": 3,
   "metadata": {},
   "outputs": [],
   "source": [
    "# constant\n",
    "\n",
    "c1 = tf.constant(1)\n",
    "c2 = tf.constant(2)\n",
    "c3 = tf.constant(3)\n",
    "\n",
    "add = tf.add(c1, c2)\n",
    "ma = tf.multiply(add, c3)\n",
    "\n",
    "# m1 = tf.constant([[3,3]])\n",
    "# m2 = tf.constant([[2],[3]])   "
   ]
  },
  {
   "cell_type": "code",
   "execution_count": 6,
   "metadata": {
    "collapsed": true
   },
   "outputs": [
    {
     "ename": "AttributeError",
     "evalue": "'Tensor' object has no attribute 'assign'",
     "output_type": "error",
     "traceback": [
      "\u001b[1;31m---------------------------------------------------------------------------\u001b[0m",
      "\u001b[1;31mAttributeError\u001b[0m                            Traceback (most recent call last)",
      "\u001b[1;32m<ipython-input-6-63965ad6c568>\u001b[0m in \u001b[0;36m<module>\u001b[1;34m\u001b[0m\n\u001b[0;32m      7\u001b[0m \u001b[1;31m# pic = tf.placeholder(tf.float32, [None, n_dim])\u001b[0m\u001b[1;33m\u001b[0m\u001b[1;33m\u001b[0m\u001b[1;33m\u001b[0m\u001b[0m\n\u001b[0;32m      8\u001b[0m \u001b[1;31m# w1 = tf.Variable(tf.random_normal([n_dim, nb_n_1]))\u001b[0m\u001b[1;33m\u001b[0m\u001b[1;33m\u001b[0m\u001b[1;33m\u001b[0m\u001b[0m\n\u001b[1;32m----> 9\u001b[1;33m \u001b[0mupdate\u001b[0m \u001b[1;33m=\u001b[0m \u001b[0mtf\u001b[0m\u001b[1;33m.\u001b[0m\u001b[0massign\u001b[0m\u001b[1;33m(\u001b[0m\u001b[0mstate\u001b[0m\u001b[1;33m,\u001b[0m \u001b[0mtf\u001b[0m\u001b[1;33m.\u001b[0m\u001b[0madd\u001b[0m\u001b[1;33m(\u001b[0m\u001b[0mstate\u001b[0m\u001b[1;33m,\u001b[0m \u001b[1;36m1\u001b[0m\u001b[1;33m)\u001b[0m\u001b[1;33m)\u001b[0m  \u001b[1;31m# only variable can be assigned. Constant can not be assigned, tensor cannot been assigned\u001b[0m\u001b[1;33m\u001b[0m\u001b[1;33m\u001b[0m\u001b[0m\n\u001b[0m",
      "\u001b[1;32mD:\\virtualenvs\\congyuml\\lib\\site-packages\\tensorflow\\python\\ops\\state_ops.py\u001b[0m in \u001b[0;36massign\u001b[1;34m(ref, value, validate_shape, use_locking, name)\u001b[0m\n\u001b[0;32m    226\u001b[0m         \u001b[0mref\u001b[0m\u001b[1;33m,\u001b[0m \u001b[0mvalue\u001b[0m\u001b[1;33m,\u001b[0m \u001b[0muse_locking\u001b[0m\u001b[1;33m=\u001b[0m\u001b[0muse_locking\u001b[0m\u001b[1;33m,\u001b[0m \u001b[0mname\u001b[0m\u001b[1;33m=\u001b[0m\u001b[0mname\u001b[0m\u001b[1;33m,\u001b[0m\u001b[1;33m\u001b[0m\u001b[1;33m\u001b[0m\u001b[0m\n\u001b[0;32m    227\u001b[0m         validate_shape=validate_shape)\n\u001b[1;32m--> 228\u001b[1;33m   \u001b[1;32mreturn\u001b[0m \u001b[0mref\u001b[0m\u001b[1;33m.\u001b[0m\u001b[0massign\u001b[0m\u001b[1;33m(\u001b[0m\u001b[0mvalue\u001b[0m\u001b[1;33m,\u001b[0m \u001b[0mname\u001b[0m\u001b[1;33m=\u001b[0m\u001b[0mname\u001b[0m\u001b[1;33m)\u001b[0m\u001b[1;33m\u001b[0m\u001b[1;33m\u001b[0m\u001b[0m\n\u001b[0m\u001b[0;32m    229\u001b[0m \u001b[1;33m\u001b[0m\u001b[0m\n\u001b[0;32m    230\u001b[0m \u001b[1;33m\u001b[0m\u001b[0m\n",
      "\u001b[1;31mAttributeError\u001b[0m: 'Tensor' object has no attribute 'assign'"
     ]
    }
   ],
   "source": [
    "p1 = tf.placeholder(tf.float32)  # tensor\n",
    "p2 = tf.placeholder(tf.float32)\n",
    "state = tf.multiply(p1, p2)        # elementwise\n",
    "\n",
    "a=1\n",
    "b=2\n",
    "# pic = tf.placeholder(tf.float32, [None, n_dim])\n",
    "# w1 = tf.Variable(tf.random_normal([n_dim, nb_n_1]))\n",
    "update = tf.assign(state, tf.add(state, 1))  # only variable can be assigned. Constant can not be assigned, tensor cannot been assigned"
   ]
  },
  {
   "cell_type": "code",
   "execution_count": 7,
   "metadata": {},
   "outputs": [
    {
     "name": "stdout",
     "output_type": "stream",
     "text": [
      "[3, 9]\n",
      "[2.]\n"
     ]
    }
   ],
   "source": [
    "# fetch and feed\n",
    "\n",
    "with tf.Session() as sess:\n",
    "    # fetch\n",
    "    print(sess.run([add, ma]))\n",
    "    \n",
    "    # feed\n",
    "    print(sess.run(state, feed_dict={p1: [a], p2: [b]}))"
   ]
  },
  {
   "cell_type": "markdown",
   "metadata": {},
   "source": [
    "# build a NN"
   ]
  },
  {
   "cell_type": "markdown",
   "metadata": {},
   "source": [
    "## theoritical one"
   ]
  },
  {
   "cell_type": "code",
   "execution_count": null,
   "metadata": {},
   "outputs": [],
   "source": [
    "# assume we already have data, and we ignore the feed for the train\n",
    "# so the following programming can not work without some concret cases\n",
    "\n",
    "x_train =\n",
    "y_train =\n",
    "\n",
    "# assume the x_train is (1000, 5) data , y_train is (1000,1)\n",
    "x = tf.placeholder(tf.float32, [None, 5])\n",
    "y = tf.placeholder(tf.float32, [None, 1])\n",
    "\n",
    "n1 = 4\n",
    "w1 = tf.Variable(tf.random_normal([5, n1]))  # it is transpose of the form in textbook of NN\n",
    "b1 = tf.Variable(tf.zeros([1, n1])) # b1 is (1,4) because the output is 1 dimensional\n",
    "z1 = tf.matmul(x, w1) + b1 # here broadcast will happen\n",
    "a1 = tf.nn.relu(z1)\n",
    "\n",
    "n2 = 1\n",
    "w2 = tf.Variable(tf.random_normal([n1, 1]))\n",
    "b2 = tf.Variable(tf.zeros([1, n2]))\n",
    "z2 = tf.matmul(a1,w1) + b2\n",
    "a2 = z2\n",
    "\n",
    "loss = tf.reduce_mean(tf.square(a2-y))\n",
    "\n",
    "optimizer = tf.train.GradientDescentOptimizer(0.2)\n",
    "train = optimizer.minimize(loss)\n",
    "\n",
    "init = tf.initializers.global_variables()\n",
    "with tf.Session() as sess:\n",
    "    sess.run(init)\n",
    "    for i in range(200):\n",
    "        sess.run(train, feed_dict={x: x_train, y: y_train})\n",
    "    print(sess.run(loss, feed_dict={x: x_train, y: y_train}))"
   ]
  },
  {
   "cell_type": "markdown",
   "metadata": {},
   "source": [
    "## real one"
   ]
  },
  {
   "cell_type": "code",
   "execution_count": 13,
   "metadata": {
    "collapsed": true
   },
   "outputs": [
    {
     "name": "stdout",
     "output_type": "stream",
     "text": [
      "Extracting MNIST_data/train-images-idx3-ubyte.gz\n",
      "Extracting MNIST_data/train-labels-idx1-ubyte.gz\n",
      "Extracting MNIST_data/t10k-images-idx3-ubyte.gz\n",
      "Extracting MNIST_data/t10k-labels-idx1-ubyte.gz\n",
      "0.0%\tIteration 0 : accuracy : 0.29120001196861267\n",
      "0.0%\tIteration 0 : accuracy : 0.40619999170303345\n",
      "0.0%\tIteration 0 : accuracy : 0.49630001187324524\n",
      "0.0%\tIteration 0 : accuracy : 0.534500002861023\n",
      "0.0%\tIteration 0 : accuracy : 0.5759999752044678\n",
      "0.0%\tIteration 0 : accuracy : 0.6399000287055969\n",
      "0.0%\tIteration 0 : accuracy : 0.6730999946594238\n",
      "0.0%\tIteration 0 : accuracy : 0.7020000219345093\n",
      "0.0%\tIteration 0 : accuracy : 0.734499990940094\n",
      "0.0%\tIteration 0 : accuracy : 0.7703999876976013\n",
      "0.0%\tIteration 0 : accuracy : 0.807699978351593\n",
      "40.0%\tIteration 2 : accuracy : 0.8949999809265137\n",
      "40.0%\tIteration 2 : accuracy : 0.8980000019073486\n",
      "40.0%\tIteration 2 : accuracy : 0.9000999927520752\n",
      "40.0%\tIteration 2 : accuracy : 0.9004999995231628\n",
      "40.0%\tIteration 2 : accuracy : 0.9017999768257141\n",
      "40.0%\tIteration 2 : accuracy : 0.902899980545044\n",
      "40.0%\tIteration 2 : accuracy : 0.9042999744415283\n",
      "40.0%\tIteration 2 : accuracy : 0.907800018787384\n",
      "40.0%\tIteration 2 : accuracy : 0.9103999733924866\n",
      "40.0%\tIteration 2 : accuracy : 0.9117000102996826\n",
      "40.0%\tIteration 2 : accuracy : 0.9125000238418579\n",
      "80.0%\tIteration 4 : accuracy : 0.9232000112533569\n",
      "80.0%\tIteration 4 : accuracy : 0.9241999983787537\n",
      "80.0%\tIteration 4 : accuracy : 0.9253000020980835\n",
      "80.0%\tIteration 4 : accuracy : 0.9265000224113464\n",
      "80.0%\tIteration 4 : accuracy : 0.9266999959945679\n",
      "80.0%\tIteration 4 : accuracy : 0.9271000027656555\n",
      "80.0%\tIteration 4 : accuracy : 0.9269999861717224\n",
      "80.0%\tIteration 4 : accuracy : 0.9269000291824341\n",
      "80.0%\tIteration 4 : accuracy : 0.9269000291824341\n",
      "80.0%\tIteration 4 : accuracy : 0.928600013256073\n",
      "80.0%\tIteration 4 : accuracy : 0.9293000102043152\n"
     ]
    }
   ],
   "source": [
    "from tensorflow.examples.tutorials.mnist import input_data\n",
    "mnist = input_data.read_data_sets(\"MNIST_data/\", one_hot=True)\n",
    "\n",
    "# new we going to build the NN; lets start with placeholder for data and parameter\n",
    "pic             = tf.placeholder(tf.float32, [None, 784])\n",
    "the_label       = tf.placeholder(tf.float32, [None, 10])\n",
    "learning_rate   = tf.placeholder(tf.float32) \n",
    "\n",
    "# layer 1\n",
    "nb_n_1 = 500\n",
    "w1 = tf.Variable(tf.truncated_normal([784, nb_n_1], stddev = 0.1))\n",
    "b1 = tf.Variable(tf.zeros([nb_n_1]) + 0.1)\n",
    "l1 = tf.nn.tanh(tf.matmul(pic, w1) + b1)\n",
    "nb_n = nb_n_1\n",
    "   \n",
    "# layer 2\n",
    "nb_n_2 = 300\n",
    "w2 = tf.Variable(tf.truncated_normal([nb_n, nb_n_2], stddev = 0.1))\n",
    "b2 = tf.Variable(tf.zeros([nb_n_2]) + 0.1)\n",
    "l2 = tf.nn.tanh(tf.matmul(l1, w2) + b2)\n",
    "nb_n = nb_n_2\n",
    "   \n",
    "# layer 3\n",
    "nb_n_3 = 10\n",
    "w3 = tf.Variable(tf.truncated_normal([nb_n, 10], stddev = 0.1))\n",
    "b3 = tf.Variable(tf.zeros([nb_n_3]) + 0.1)\n",
    "l3 = tf.nn.softmax(tf.matmul(l2, w3) + b3) # softmax layer takes no activation function\n",
    "\n",
    "loss = tf.losses.softmax_cross_entropy(the_label, l3)\n",
    "# loss = tf.reduce_mean(tf.square(the_label-l3))  \n",
    "\n",
    "optimizer =  tf.train.AdamOptimizer(learning_rate)\n",
    "train = optimizer.minimize(loss) \n",
    "\n",
    "# ww also want to see some performance during the training\n",
    "correct_predict = tf.equal(tf.argmax(l3, 1), tf.argmax(the_label, 1)) \n",
    "accuracy        = tf.reduce_mean(tf.cast(correct_predict, tf.float32))\n",
    "# tf.cast make True to be 1\n",
    "\n",
    "n_epoch = 5\n",
    "batch_size = 5000\n",
    "n_batch = mnist.train.num_examples // batch_size\n",
    "# we need n_batch to write the loop \n",
    "# in the loop we will use: \n",
    "# batch_xs, batch_ys = mnist.train.next_batch(batch_size)\n",
    "\n",
    "with tf.Session() as sess:\n",
    "    sess.run(tf.initializers.global_variables())\n",
    "    for epoch in range(n_epoch + 1):\n",
    "        for batch in range(n_batch):\n",
    "            batch_xs, batch_ys = mnist.train.next_batch(batch_size)\n",
    "            sess.run(train, feed_dict={\n",
    "                pic:           batch_xs, \n",
    "                the_label:     batch_ys, \n",
    "                learning_rate: 0.001 * (0.98**epoch)}\n",
    "                    )\n",
    "            \n",
    "            if epoch % 2 == 0:\n",
    "                acc = sess.run(accuracy, feed_dict={pic: mnist.test.images, the_label: mnist.test.labels})\n",
    "                print('{}%\\tIteration {} : accuracy : {}'.format(float(epoch)*100/n_epoch, epoch, acc))\n",
    "\n",
    "tf.reset_default_graph()"
   ]
  },
  {
   "cell_type": "code",
   "execution_count": null,
   "metadata": {},
   "outputs": [],
   "source": []
  }
 ],
 "metadata": {
  "kernelspec": {
   "display_name": "congyuml",
   "language": "python",
   "name": "congyuml"
  },
  "language_info": {
   "codemirror_mode": {
    "name": "ipython",
    "version": 3
   },
   "file_extension": ".py",
   "mimetype": "text/x-python",
   "name": "python",
   "nbconvert_exporter": "python",
   "pygments_lexer": "ipython3",
   "version": "3.7.3"
  }
 },
 "nbformat": 4,
 "nbformat_minor": 2
}
