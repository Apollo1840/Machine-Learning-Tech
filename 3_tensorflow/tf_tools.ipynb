{
 "cells": [
  {
   "cell_type": "code",
   "execution_count": 1,
   "metadata": {},
   "outputs": [],
   "source": [
    "import tensorflow as tf\n",
    "sess = tf.Session()"
   ]
  },
  {
   "cell_type": "code",
   "execution_count": null,
   "metadata": {},
   "outputs": [],
   "source": [
    "# one_hot\n",
    "oh0 = tf.one_hot([0,1,2,3,4], depth=10)\n",
    "oh1 = tf.one_hot([0,1,2,3,4], depth=3)\n",
    "oh2 = tf.one_hot([[0,1,1],[1,0,2],[1,0,0]], depth=3)\n",
    "\n",
    "print('---------------one hot---------------------')\n",
    "print('---------\\n oh0 \\n')\n",
    "print(sess.run(oh0))\n",
    "\n",
    "print('---------\\n oh1 \\n')\n",
    "print(sess.run(oh1))\n",
    "\n",
    "print('---------\\n oh2 \\n')\n",
    "print(sess.run(oh2))"
   ]
  },
  {
   "cell_type": "code",
   "execution_count": null,
   "metadata": {},
   "outputs": [],
   "source": [
    "# reshape \n",
    "x = [0., 1., 2., 3., 4., 5., 6., 7.]\n",
    "y = tf.reshape(x, [2, 2, 2])\n",
    "# the order is \n",
    "print(sess.run(y))\n",
    "\n",
    "# unstack \n",
    "# unstack is rolling the index to the first: e.g when axis =1 : [1,2,3] -> [2,1,3] \n",
    "y0 = tf.unstack(y, axis=0)\n",
    "y1 = tf.unstack(y, axis=1)\n",
    "y2 = tf.unstack(y, axis=2)\n",
    "\n",
    "# transpose\n",
    "# transpose is more powerful than unstack\n",
    "y0_2 = tf.transpose(y, [0,1,2])\n",
    "y1_2 = tf.transpose(y, [1,0,2])\n",
    "y2_2 = tf.transpose(y, [2,0,1])\n",
    "\n",
    "print('---------------unstack---------------------')\n",
    "print('---------\\n y \\n')\n",
    "print(sess.run(y))\n",
    "print('---------\\n y0 \\n')\n",
    "print(sess.run(y0))\n",
    "print('---------\\n y1 \\n')\n",
    "print(sess.run(y1))\n",
    "print('---------\\n y2 \\n')\n",
    "print(sess.run(y2))\n",
    "\n",
    "print('---------------transpose---------------------')\n",
    "print('---------\\n y0_2 \\n')\n",
    "print(sess.run(y0_2))\n",
    "print('---------\\n y1_2 \\n')\n",
    "print(sess.run(y1_2))\n",
    "print('---------\\n y2_2 \\n')\n",
    "print(sess.run(y2_2))\n"
   ]
  },
  {
   "cell_type": "code",
   "execution_count": 8,
   "metadata": {},
   "outputs": [
    {
     "data": {
      "text/plain": [
       "TensorShape([Dimension(2), Dimension(3), Dimension(4)])"
      ]
     },
     "execution_count": 8,
     "metadata": {},
     "output_type": "execute_result"
    }
   ],
   "source": [
    "# exercise: \n",
    "# the data is like (pictures, pixel, channel) \n",
    "# change it to (picture, channel, pixel_row, pixel_column)\n",
    "\n",
    "pic1 = [[11,225,13],[255,43,23], [42,34,200], [255,255,0]]\n",
    "pic2 = [[255,52,255],[0,0,223], [0,0,0], [255,255,0]]\n",
    "raw_data = [pic1, pic2]\n",
    "\n",
    "nd = tf.transpose(raw_data, [0, 2, 1])\n",
    "shape = nd.get_shape()\n",
    "shape"
   ]
  },
  {
   "cell_type": "code",
   "execution_count": 9,
   "metadata": {
    "collapsed": true
   },
   "outputs": [
    {
     "name": "stdout",
     "output_type": "stream",
     "text": [
      "[[[[ 11 255]\n",
      "   [ 42 255]]\n",
      "\n",
      "  [[225  43]\n",
      "   [ 34 255]]\n",
      "\n",
      "  [[ 13  23]\n",
      "   [200   0]]]\n",
      "\n",
      "\n",
      " [[[255   0]\n",
      "   [  0 255]]\n",
      "\n",
      "  [[ 52   0]\n",
      "   [  0 255]]\n",
      "\n",
      "  [[255 223]\n",
      "   [  0   0]]]]\n"
     ]
    }
   ],
   "source": [
    "nd = tf.reshape(nd, [nd.get_shape()[0],nd.get_shape()[1], 2, 2])\n",
    "new_data = sess.run(nd)\n",
    "print(new_data)"
   ]
  },
  {
   "cell_type": "code",
   "execution_count": null,
   "metadata": {},
   "outputs": [],
   "source": [
    "#-----------------------------------------------------------------------------\n",
    "# part 3\n",
    "# squeeze: remove the redundant dimension\n",
    "import numpy as np\n",
    "a = np.array([[1,2,3,4,5]])\n",
    "a2 = tf.squeeze(a)\n",
    "\n",
    "b = np.array([[[1],[2]],[[3],[4]]])\n",
    "b2 = tf.squeeze(b)\n",
    "\n",
    "print('---------------squeeze---------------------')\n",
    "print('-----------\\n a2 \\n')\n",
    "print(a)\n",
    "print(a.shape)\n",
    "a2_ = sess.run(a2)\n",
    "print('\\nsqueezed\\n:')\n",
    "print(a2_)\n",
    "print(a2_.shape)\n",
    "\n",
    "print('-----------\\n b2 \\n')\n",
    "print(b)\n",
    "print(b.shape)\n",
    "b2_ = sess.run(b2)\n",
    "print('\\nsqueezed\\n:')\n",
    "print(b2_)\n",
    "print(b2_.shape)"
   ]
  },
  {
   "cell_type": "code",
   "execution_count": null,
   "metadata": {},
   "outputs": [],
   "source": [
    "# get the shape of the output of a graph\n",
    "\n",
    "data = tf.placeholder(\"float\", shape=[1, 7, 7, 3])\n",
    "w    = tf.Variable(tf.constant(0.1,shape=[4, 4, 3, 2]))\n",
    "conv = tf.nn.conv2d(data, \n",
    "                    filter=w, \n",
    "                    strides=[1, 2, 2, 1], \n",
    "                    padding='SAME')\n",
    "\n",
    "print(conv.get_shape())  # (7 + (4-1))/2 - 1 = 4 "
   ]
  }
 ],
 "metadata": {
  "kernelspec": {
   "display_name": "congyuml",
   "language": "python",
   "name": "congyuml"
  },
  "language_info": {
   "codemirror_mode": {
    "name": "ipython",
    "version": 3
   },
   "file_extension": ".py",
   "mimetype": "text/x-python",
   "name": "python",
   "nbconvert_exporter": "python",
   "pygments_lexer": "ipython3",
   "version": "3.7.3"
  }
 },
 "nbformat": 4,
 "nbformat_minor": 2
}
