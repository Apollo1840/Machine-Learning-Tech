{
 "cells": [
  {
   "cell_type": "code",
   "execution_count": 1,
   "metadata": {},
   "outputs": [
    {
     "name": "stdout",
     "output_type": "stream",
     "text": [
      "Shape of X [N, C, H, W]:  torch.Size([64, 1, 28, 28])\n",
      "Shape of y:  torch.Size([64]) torch.int64 tensor([9, 2, 1, 1, 6, 1, 4, 6, 5, 7])\n"
     ]
    }
   ],
   "source": [
    "import torch\n",
    "from torch import nn\n",
    "\n",
    "from material.data import fminist_datagen, fminist_classes\n",
    "\n",
    "train_gen, test_gen = fminist_datagen()\n",
    "for x, y in test_gen:\n",
    "    x_sample, y_sample = x[0], y[0]\n",
    "    break"
   ]
  },
  {
   "cell_type": "code",
   "execution_count": 12,
   "metadata": {},
   "outputs": [],
   "source": [
    "class NeuralNetwork(nn.Module):\n",
    "    loss_fn = nn.CrossEntropyLoss()\n",
    "\n",
    "    def __init__(self):\n",
    "        super(NeuralNetwork, self).__init__()\n",
    "        self.flatten = nn.Flatten()\n",
    "        self.linear_relu_stack = nn.Sequential(\n",
    "            nn.Linear(28 * 28, 512),\n",
    "            nn.ReLU(),\n",
    "            nn.Linear(512, 512),\n",
    "            nn.ReLU(),\n",
    "            nn.Linear(512, 10),\n",
    "            nn.ReLU()\n",
    "        )\n",
    "        self.optimizer = torch.optim.SGD(self.parameters(), lr=1e-3)\n",
    "\n",
    "    def forward(self, x):\n",
    "        x = self.flatten(x)\n",
    "        logits = self.linear_relu_stack(x)\n",
    "        return logits\n",
    "\n",
    "\n",
    "class Pytorch_NN(NeuralNetwork):\n",
    "\n",
    "    def fit_datagen(self, datagen, epochs=12):\n",
    "\n",
    "        for t in range(epochs):\n",
    "            print(f\"Epoch {t + 1}\\n-------------------------------\")\n",
    "\n",
    "            for X, y in datagen:\n",
    "                model.backprop(X, y)\n",
    "\n",
    "            model.eval_datagen(test_gen)\n",
    "\n",
    "        print(\"Done!\")\n",
    "\n",
    "    def predict(self, x):\n",
    "        self.eval()\n",
    "\n",
    "        with torch.no_grad():\n",
    "            pred = model(x)\n",
    "\n",
    "        return pred\n",
    "\n",
    "    def backprop(self, X, y):\n",
    "        # Backpropagation\n",
    "        self.optimizer.zero_grad()\n",
    "        self.loss_fn(self(X), y).backward()\n",
    "        self.optimizer.step()\n",
    "\n",
    "    def eval_datagen(self, datagen):\n",
    "        # eval model\n",
    "        self.eval()  # change to evaluation mode\n",
    "\n",
    "        test_loss, correct = 0, 0\n",
    "        with torch.no_grad():\n",
    "            for X, y in datagen:\n",
    "                pred = self(X)\n",
    "                test_loss += self.loss_fn(pred, y).item()\n",
    "                correct += (pred.argmax(1) == y).type(torch.float).sum().item()\n",
    "\n",
    "        size = len(datagen.dataset)\n",
    "        test_loss_avg = test_loss / size  # avg_loss\n",
    "        acc = correct / size  # accuracy\n",
    "        print(f\"Test Error: \\n Accuracy: {(100 * acc):>0.1f}%, Avg loss: {test_loss_avg:>8f} \\n\")\n"
   ]
  },
  {
   "cell_type": "code",
   "execution_count": 13,
   "metadata": {},
   "outputs": [
    {
     "name": "stdout",
     "output_type": "stream",
     "text": [
      "Epoch 1\n",
      "-------------------------------\n",
      "Test Error: \n",
      " Accuracy: 49.9%, Avg loss: 0.034702 \n",
      "\n",
      "Epoch 2\n",
      "-------------------------------\n",
      "Test Error: \n",
      " Accuracy: 49.3%, Avg loss: 0.032498 \n",
      "\n",
      "Epoch 3\n",
      "-------------------------------\n",
      "Test Error: \n",
      " Accuracy: 50.8%, Avg loss: 0.029480 \n",
      "\n",
      "Epoch 4\n",
      "-------------------------------\n",
      "Test Error: \n",
      " Accuracy: 52.2%, Avg loss: 0.026690 \n",
      "\n",
      "Epoch 5\n",
      "-------------------------------\n",
      "Test Error: \n",
      " Accuracy: 53.1%, Avg loss: 0.024578 \n",
      "\n"
     ]
    }
   ],
   "source": [
    "model = Pytorch_NN()"
   ]
  },
  {
   "cell_type": "code",
   "execution_count": null,
   "metadata": {},
   "outputs": [],
   "source": [
    "\n",
    "    # train\n",
    "    model.fit_datagen(train_gen, epochs=12)"
   ]
  },
  {
   "cell_type": "code",
   "execution_count": 4,
   "metadata": {},
   "outputs": [
    {
     "name": "stdout",
     "output_type": "stream",
     "text": [
      "Predicted: Sandal, Actual: Ankle boot\n"
     ]
    }
   ],
   "source": [
    "# use\n",
    "pred = model.predict(x_sample)\n",
    "print('Predicted: {}, Actual: {}'.format(\n",
    "    fminist_classes[pred[0].argmax(0)], fminist_classes[y_sample]\n",
    "))"
   ]
  },
  {
   "cell_type": "code",
   "execution_count": null,
   "metadata": {},
   "outputs": [],
   "source": []
  }
 ],
 "metadata": {
  "kernelspec": {
   "display_name": "congyuml",
   "language": "python",
   "name": "congyuml"
  },
  "language_info": {
   "codemirror_mode": {
    "name": "ipython",
    "version": 3
   },
   "file_extension": ".py",
   "mimetype": "text/x-python",
   "name": "python",
   "nbconvert_exporter": "python",
   "pygments_lexer": "ipython3",
   "version": "3.6.9"
  }
 },
 "nbformat": 4,
 "nbformat_minor": 4
}
