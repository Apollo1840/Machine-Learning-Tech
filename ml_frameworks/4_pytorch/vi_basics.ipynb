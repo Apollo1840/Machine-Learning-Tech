{
 "cells": [
  {
   "cell_type": "code",
   "execution_count": 6,
   "metadata": {},
   "outputs": [],
   "source": [
    "%%capture\n",
    "import torch\n",
    "from torch.nn.init import normal_\n",
    "from torch.autograd import Variable\n",
    "import torch.optim as optim"
   ]
  },
  {
   "cell_type": "code",
   "execution_count": 17,
   "metadata": {},
   "outputs": [
    {
     "name": "stdout",
     "output_type": "stream",
     "text": [
      "tensor([0.3177], requires_grad=True)\n"
     ]
    }
   ],
   "source": [
    "x = torch.empty(1, requires_grad=True)\n",
    "normal_(x)\n",
    "print(x)"
   ]
  },
  {
   "cell_type": "code",
   "execution_count": 18,
   "metadata": {},
   "outputs": [
    {
     "name": "stdout",
     "output_type": "stream",
     "text": [
      "tensor([0.6353], grad_fn=<MulBackward0>)\n",
      "None\n",
      "tensor([2.])\n"
     ]
    }
   ],
   "source": [
    "# create function to optimize\n",
    "y = 2 * x\n",
    "print(y)\n",
    "\n",
    "# calculate the gradient and feed it back\n",
    "print(x.grad)\n",
    "y.backward()\n",
    "print(x.grad)\n"
   ]
  },
  {
   "cell_type": "code",
   "execution_count": 19,
   "metadata": {},
   "outputs": [
    {
     "name": "stdout",
     "output_type": "stream",
     "text": [
      "tensor([0.3177], requires_grad=True)\n",
      "tensor([0.2177], requires_grad=True)\n"
     ]
    }
   ],
   "source": [
    "optimizer = optim.Adam([x], lr=0.1)\n",
    "\n",
    "y = 2 * x\n",
    "print(x)\n",
    "\n",
    "optimizer.zero_grad()\n",
    "y.backward()\n",
    "optimizer.step()\n",
    "\n",
    "print(x)"
   ]
  },
  {
   "cell_type": "code",
   "execution_count": 20,
   "metadata": {},
   "outputs": [
    {
     "name": "stdout",
     "output_type": "stream",
     "text": [
      "tensor([[2.1882]], grad_fn=<PowBackward0>)\n",
      "tensor([[3.3360]], grad_fn=<PowBackward0>)\n",
      "tensor([[1.3381]], grad_fn=<PowBackward0>)\n",
      "tensor([[1.2334]], grad_fn=<PowBackward0>)\n",
      "tensor([[5.4903]], grad_fn=<PowBackward0>)\n",
      "tensor([[1.2010]], grad_fn=<PowBackward0>)\n",
      "tensor([[1.8789]], grad_fn=<PowBackward0>)\n",
      "tensor([[2.2155]], grad_fn=<PowBackward0>)\n",
      "tensor([[3.2401]], grad_fn=<PowBackward0>)\n",
      "tensor([[2.0514]], grad_fn=<PowBackward0>)\n",
      "tensor([[1.6296]], grad_fn=<PowBackward0>)\n",
      "tensor([[3.1413]], grad_fn=<PowBackward0>)\n"
     ]
    }
   ],
   "source": [
    "# 1. basic train\n",
    "# data:\n",
    "datagen = zip([torch.rand(1, 4) for _ in range(12)], [torch.zeros(1) for _ in range(12)])\n",
    "\n",
    "# variable(weights)\n",
    "W = Variable(torch.randn(4, 1), requires_grad=True)\n",
    "b = Variable(torch.randn(1), requires_grad=True)\n",
    "model = lambda x: torch.matmul(x, W) + b\n",
    "\n",
    "optimizer = optim.Adam([W, b])\n",
    "\n",
    "for x, y in datagen:\n",
    "    optimizer.zero_grad()\n",
    "\n",
    "    pred = model(x)\n",
    "    loss = (pred - y) ** 2\n",
    "\n",
    "    loss.backward()\n",
    "    optimizer.step()\n",
    "\n",
    "    print(loss)\n"
   ]
  },
  {
   "cell_type": "markdown",
   "metadata": {},
   "source": [
    "# initialization"
   ]
  },
  {
   "cell_type": "code",
   "execution_count": 2,
   "metadata": {},
   "outputs": [
    {
     "name": "stdout",
     "output_type": "stream",
     "text": [
      "empty tensor([[-8.5232e-22,  4.5845e-41, -8.5232e-22],\n",
      "        [ 4.5845e-41,  4.9961e+20,  4.5845e-41],\n",
      "        [-4.0814e-29,  4.5845e-41, -4.0814e-29],\n",
      "        [ 4.5845e-41, -8.8401e-29,  4.5845e-41],\n",
      "        [ 5.1762e+20,  4.5845e-41,  5.1762e+20]])\n",
      "rand tensor([[0.9213, 0.8025, 0.9229],\n",
      "        [0.6111, 0.4490, 0.3283],\n",
      "        [0.7732, 0.3911, 0.9300],\n",
      "        [0.1198, 0.0873, 0.8795],\n",
      "        [0.0815, 0.5245, 0.4016]])\n",
      "zeros tensor([[0, 0, 0],\n",
      "        [0, 0, 0],\n",
      "        [0, 0, 0],\n",
      "        [0, 0, 0],\n",
      "        [0, 0, 0]])\n",
      "tensor([5.5000, 3.0000])\n"
     ]
    }
   ],
   "source": [
    "x = torch.empty(5, 3)\n",
    "print(\"empty\", x)\n",
    "\n",
    "x = torch.rand(5, 3)\n",
    "print(\"rand\", x)\n",
    "\n",
    "x = torch.zeros(5, 3, dtype=torch.long)\n",
    "print(\"zeros\", x)\n",
    "\n",
    "x = torch.tensor([5.5, 3])\n",
    "print(x)"
   ]
  },
  {
   "cell_type": "code",
   "execution_count": 3,
   "metadata": {},
   "outputs": [
    {
     "name": "stdout",
     "output_type": "stream",
     "text": [
      "tensor([1., 1., 1., 1., 1.], dtype=torch.float64)\n",
      "[1. 1. 1. 1. 1.]\n",
      "tensor([-0.2367, -0.4702, -0.1085, -0.2559,  1.6535])\n"
     ]
    }
   ],
   "source": [
    "# additional\n",
    "\n",
    "## from numpy\n",
    "a = np.ones(5)\n",
    "b = torch.from_numpy(a)\n",
    "print(b)\n",
    "print(b.numpy())\n",
    "\n",
    "## from torch tensor\n",
    "x = torch.randn_like(b, dtype=torch.float)    # override dtype!\n",
    "print(x)\n",
    "\n",
    "# x = x.new_ones(5, 3, dtype=torch.double)      # new_* methods take in sizes\n",
    "# print(x)"
   ]
  },
  {
   "cell_type": "markdown",
   "metadata": {},
   "source": [
    "# operation"
   ]
  },
  {
   "cell_type": "code",
   "execution_count": 5,
   "metadata": {},
   "outputs": [
    {
     "name": "stdout",
     "output_type": "stream",
     "text": [
      "torch.Size([4, 4]) torch.Size([16]) torch.Size([2, 8])\n"
     ]
    }
   ],
   "source": [
    "# one element\n",
    "x = torch.randn(4, 4)\n",
    "y = x.view(16)    # : reshape\n",
    "z = x.view(-1, 8)  # the size -1 is inferred from other dimensions\n",
    "print(x.size(), y.size(), z.size())"
   ]
  },
  {
   "cell_type": "code",
   "execution_count": 6,
   "metadata": {},
   "outputs": [
    {
     "name": "stdout",
     "output_type": "stream",
     "text": [
      "tensor([[1.2781, 1.2587, 0.3948],\n",
      "        [0.3611, 1.3786, 1.5138],\n",
      "        [1.3472, 1.1214, 1.0918],\n",
      "        [0.6161, 1.2757, 0.5494],\n",
      "        [0.4003, 1.6258, 1.7759]])\n"
     ]
    }
   ],
   "source": [
    "x = torch.rand(5, 3)\n",
    "y = torch.rand(5, 3)\n",
    "z = torch.add(x,y)\n",
    "print(z)"
   ]
  },
  {
   "cell_type": "markdown",
   "metadata": {},
   "source": [
    "# get gradient"
   ]
  },
  {
   "cell_type": "code",
   "execution_count": 13,
   "metadata": {},
   "outputs": [
    {
     "name": "stdout",
     "output_type": "stream",
     "text": [
      "<MmBackward object at 0x7fcc13e8a128>\n",
      "tensor([[2., 2.]])\n"
     ]
    }
   ],
   "source": [
    "x = torch.ones(1, 2, requires_grad=True)\n",
    "y = torch.matmul(x, x.T)\n",
    "print(y.grad_fn)\n",
    "y.backward()\n",
    "print(x.grad)   # grad is more like delta x"
   ]
  },
  {
   "cell_type": "code",
   "execution_count": null,
   "metadata": {},
   "outputs": [],
   "source": []
  }
 ],
 "metadata": {
  "kernelspec": {
   "display_name": "congyuml",
   "language": "python",
   "name": "congyuml"
  },
  "language_info": {
   "codemirror_mode": {
    "name": "ipython",
    "version": 3
   },
   "file_extension": ".py",
   "mimetype": "text/x-python",
   "name": "python",
   "nbconvert_exporter": "python",
   "pygments_lexer": "ipython3",
   "version": "3.6.9"
  }
 },
 "nbformat": 4,
 "nbformat_minor": 4
}
