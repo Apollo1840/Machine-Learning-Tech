{
 "cells": [
  {
   "cell_type": "markdown",
   "metadata": {},
   "source": [
    "# Use Pytorch with GPU"
   ]
  },
  {
   "cell_type": "markdown",
   "metadata": {},
   "source": [
    "this tutorial teaches you how to **create/train/test(evaluate)** a Pytorch model with **GPU**."
   ]
  },
  {
   "cell_type": "markdown",
   "metadata": {},
   "source": [
    "the idea is simple:\n",
    "- send your model to GPU.\n",
    "- send all the data to GPU before any operation, like: loss() calculation. prediction()."
   ]
  },
  {
   "cell_type": "markdown",
   "metadata": {},
   "source": [
    "---"
   ]
  },
  {
   "cell_type": "markdown",
   "metadata": {},
   "source": [
    "model = PytorchNN()\n",
    "\n",
    "**model.to(\"cuda\")**"
   ]
  },
  {
   "cell_type": "markdown",
   "metadata": {},
   "source": [
    "---"
   ]
  },
  {
   "cell_type": "markdown",
   "metadata": {},
   "source": [
    "eg:"
   ]
  },
  {
   "cell_type": "markdown",
   "metadata": {},
   "source": [
    "\n",
    "def backprop(self, x, y):\n",
    "\n",
    "  self.optimizer.zero_grad()\n",
    " \n",
    "  **x, y = x.to(\"cuda\"), y.to(\"cuda\")**\n",
    "\n",
    "  y_pred = self(x)\n",
    "  \n",
    "  self.loss(y_pred, y).backward()\n",
    "\n",
    "  self.optimizer.step()"
   ]
  },
  {
   "cell_type": "markdown",
   "metadata": {},
   "source": [
    "---"
   ]
  },
  {
   "cell_type": "markdown",
   "metadata": {},
   "source": [
    "def predict(self, x):\n",
    "\n",
    "self.eval()\n",
    "\n",
    "**x = x.to(\"cuda\")**\n",
    "\n",
    "with torch.no_grad():\n",
    "\n",
    "    y_pred = self(x)\n",
    "\n",
    "return y_pred"
   ]
  },
  {
   "cell_type": "markdown",
   "metadata": {},
   "source": [
    "---"
   ]
  }
 ],
 "metadata": {
  "kernelspec": {
   "display_name": "congyuml",
   "language": "python",
   "name": "congyuml"
  },
  "language_info": {
   "codemirror_mode": {
    "name": "ipython",
    "version": 3
   },
   "file_extension": ".py",
   "mimetype": "text/x-python",
   "name": "python",
   "nbconvert_exporter": "python",
   "pygments_lexer": "ipython3",
   "version": "3.6.9"
  }
 },
 "nbformat": 4,
 "nbformat_minor": 4
}
