{
 "cells": [
  {
   "cell_type": "code",
   "execution_count": 1,
   "metadata": {},
   "outputs": [],
   "source": [
    "import numpy as np\n",
    "np.random.seed(123) \n",
    "from matplotlib import pyplot as plt\n",
    "from keras.models import Sequential\n",
    "from keras.layers import Dense, Dropout, Activation, Flatten  \n",
    "from keras.layers import Convolution2D, MaxPooling2D \n",
    "\n",
    "from keras.utils import np_utils\n",
    "\n",
    "from keras.datasets import mnist "
   ]
  },
  {
   "cell_type": "code",
   "execution_count": 2,
   "metadata": {},
   "outputs": [],
   "source": [
    "(X_train, y_train), (X_test, y_test) = mnist.load_data() \n",
    "\n",
    "X_train = X_train.reshape(X_train.shape[0],28, 28, 1) \n",
    "X_test = X_test.reshape(X_test.shape[0], 28, 28, 1)\n",
    "\n",
    "X_train = X_train.astype('float32')\n",
    "X_test = X_test.astype('float32')\n",
    "\n",
    "X_train /= 255\n",
    "X_test /= 255\n",
    "\n",
    "Y_train = np_utils.to_categorical(y_train, 10) \n",
    "Y_test = np_utils.to_categorical(y_test, 10)"
   ]
  },
  {
   "cell_type": "code",
   "execution_count": 3,
   "metadata": {},
   "outputs": [
    {
     "name": "stdout",
     "output_type": "stream",
     "text": [
      "Model: \"sequential\"\n",
      "_________________________________________________________________\n",
      "Layer (type)                 Output Shape              Param #   \n",
      "=================================================================\n",
      "conv2d (Conv2D)              (None, 26, 26, 32)        320       \n",
      "_________________________________________________________________\n",
      "conv2d_1 (Conv2D)            (None, 24, 24, 32)        9248      \n",
      "_________________________________________________________________\n",
      "max_pooling2d (MaxPooling2D) (None, 12, 12, 32)        0         \n",
      "_________________________________________________________________\n",
      "dropout (Dropout)            (None, 12, 12, 32)        0         \n",
      "_________________________________________________________________\n",
      "flatten (Flatten)            (None, 4608)              0         \n",
      "_________________________________________________________________\n",
      "dense (Dense)                (None, 128)               589952    \n",
      "_________________________________________________________________\n",
      "dropout_1 (Dropout)          (None, 128)               0         \n",
      "_________________________________________________________________\n",
      "dense_1 (Dense)              (None, 10)                1290      \n",
      "=================================================================\n",
      "Total params: 600,810\n",
      "Trainable params: 600,810\n",
      "Non-trainable params: 0\n",
      "_________________________________________________________________\n"
     ]
    }
   ],
   "source": [
    "model = Sequential()\n",
    "\n",
    "model.add(Convolution2D(32, (3, 3), activation='relu', input_shape=(28,28,1))) \n",
    "model.add(Convolution2D(32, (3, 3), activation='relu'))\n",
    "model.add(MaxPooling2D(pool_size=(2,2)))\n",
    "model.add(Dropout(0.25))\n",
    "\n",
    "model.add(Flatten())\n",
    "model.add(Dense(128, activation='relu'))\n",
    "model.add(Dropout(0.5))\n",
    "model.add(Dense(10, activation='softmax'))\n",
    "\n",
    "model.compile(loss='categorical_crossentropy',optimizer='adam',metrics=['accuracy'])\n",
    "\n",
    "model.summary()\n",
    "\n"
   ]
  },
  {
   "cell_type": "code",
   "execution_count": 6,
   "metadata": {},
   "outputs": [
    {
     "name": "stdout",
     "output_type": "stream",
     "text": [
      "Epoch 1/30\n",
      "1875/1875 [==============================] - 13s 6ms/step - loss: 0.4067 - accuracy: 0.8724\n",
      "Epoch 2/30\n",
      "1875/1875 [==============================] - 10s 6ms/step - loss: 0.0930 - accuracy: 0.9721\n",
      "Epoch 3/30\n",
      "1875/1875 [==============================] - 10s 6ms/step - loss: 0.0706 - accuracy: 0.9788\n",
      "Epoch 4/30\n",
      "1875/1875 [==============================] - 10s 6ms/step - loss: 0.0574 - accuracy: 0.9817\n",
      "Epoch 5/30\n",
      "1875/1875 [==============================] - 10s 6ms/step - loss: 0.0475 - accuracy: 0.9852\n",
      "Epoch 6/30\n",
      "1875/1875 [==============================] - 10s 6ms/step - loss: 0.0417 - accuracy: 0.9870\n",
      "Epoch 7/30\n",
      "1875/1875 [==============================] - 11s 6ms/step - loss: 0.0388 - accuracy: 0.9876\n",
      "Epoch 8/30\n",
      "1875/1875 [==============================] - 11s 6ms/step - loss: 0.0327 - accuracy: 0.9896\n",
      "Epoch 9/30\n",
      "1875/1875 [==============================] - 10s 6ms/step - loss: 0.0314 - accuracy: 0.9902\n",
      "Epoch 10/30\n",
      "1875/1875 [==============================] - 10s 6ms/step - loss: 0.0300 - accuracy: 0.9906\n",
      "Epoch 11/30\n",
      "1875/1875 [==============================] - 11s 6ms/step - loss: 0.0249 - accuracy: 0.9921\n",
      "Epoch 12/30\n",
      "1875/1875 [==============================] - 11s 6ms/step - loss: 0.0235 - accuracy: 0.9925\n",
      "Epoch 13/30\n",
      "1875/1875 [==============================] - 10s 6ms/step - loss: 0.0240 - accuracy: 0.9920\n",
      "Epoch 14/30\n",
      "1875/1875 [==============================] - 10s 6ms/step - loss: 0.0203 - accuracy: 0.9933\n",
      "Epoch 15/30\n",
      "1875/1875 [==============================] - 11s 6ms/step - loss: 0.0209 - accuracy: 0.9935\n",
      "Epoch 16/30\n",
      "1875/1875 [==============================] - 10s 6ms/step - loss: 0.0222 - accuracy: 0.9929\n",
      "Epoch 17/30\n",
      "1875/1875 [==============================] - 11s 6ms/step - loss: 0.0183 - accuracy: 0.9938\n",
      "Epoch 18/30\n",
      "1875/1875 [==============================] - 10s 6ms/step - loss: 0.0200 - accuracy: 0.9934\n",
      "Epoch 19/30\n",
      "1875/1875 [==============================] - 10s 6ms/step - loss: 0.0199 - accuracy: 0.9940\n",
      "Epoch 20/30\n",
      "1875/1875 [==============================] - 10s 6ms/step - loss: 0.0183 - accuracy: 0.9939\n",
      "Epoch 21/30\n",
      "1875/1875 [==============================] - 11s 6ms/step - loss: 0.0164 - accuracy: 0.9950\n",
      "Epoch 22/30\n",
      "1875/1875 [==============================] - 10s 6ms/step - loss: 0.0157 - accuracy: 0.9948\n",
      "Epoch 23/30\n",
      "1875/1875 [==============================] - 10s 6ms/step - loss: 0.0167 - accuracy: 0.9946\n",
      "Epoch 24/30\n",
      "1875/1875 [==============================] - 10s 6ms/step - loss: 0.0139 - accuracy: 0.9957\n",
      "Epoch 25/30\n",
      "1875/1875 [==============================] - 10s 6ms/step - loss: 0.0144 - accuracy: 0.9953\n",
      "Epoch 26/30\n",
      "1875/1875 [==============================] - 10s 6ms/step - loss: 0.0154 - accuracy: 0.9950\n",
      "Epoch 27/30\n",
      "1875/1875 [==============================] - 10s 6ms/step - loss: 0.0155 - accuracy: 0.9950\n",
      "Epoch 28/30\n",
      "1875/1875 [==============================] - 10s 6ms/step - loss: 0.0137 - accuracy: 0.9955\n",
      "Epoch 29/30\n",
      "1875/1875 [==============================] - 11s 6ms/step - loss: 0.0127 - accuracy: 0.9961\n",
      "Epoch 30/30\n",
      "1875/1875 [==============================] - 10s 6ms/step - loss: 0.0117 - accuracy: 0.9962\n",
      "CPU times: user 7min 56s, sys: 55.6 s, total: 8min 52s\n",
      "Wall time: 5min 17s\n"
     ]
    }
   ],
   "source": [
    "%%time\n",
    "hist = model.fit(X_train, Y_train, batch_size=32, epochs=30, verbose=1)"
   ]
  },
  {
   "cell_type": "code",
   "execution_count": 7,
   "metadata": {},
   "outputs": [
    {
     "data": {
      "text/plain": [
       "[<matplotlib.lines.Line2D at 0x7f6b8e090a90>]"
      ]
     },
     "execution_count": 7,
     "metadata": {},
     "output_type": "execute_result"
    },
    {
     "data": {
      "image/png": "[encoded data removed]",
      "text/plain": [
       "<Figure size 432x288 with 1 Axes>"
      ]
     },
     "metadata": {
      "needs_background": "light"
     },
     "output_type": "display_data"
    }
   ],
   "source": [
    "plt.plot(hist.history[\"loss\"])"
   ]
  },
  {
   "cell_type": "code",
   "execution_count": null,
   "metadata": {},
   "outputs": [],
   "source": []
  }
 ],
 "metadata": {
  "kernelspec": {
   "display_name": "congyutf",
   "language": "python",
   "name": "congyutf"
  },
  "language_info": {
   "codemirror_mode": {
    "name": "ipython",
    "version": 3
   },
   "file_extension": ".py",
   "mimetype": "text/x-python",
   "name": "python",
   "nbconvert_exporter": "python",
   "pygments_lexer": "ipython3",
   "version": "3.9.5"
  }
 },
 "nbformat": 4,
 "nbformat_minor": 2
}
