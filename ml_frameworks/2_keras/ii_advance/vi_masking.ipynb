{
 "cells": [
  {
   "cell_type": "code",
   "execution_count": 60,
   "id": "c0d738d7",
   "metadata": {},
   "outputs": [],
   "source": [
    "import tensorflow as tf\n",
    "from tensorflow.keras.layers import Layer\n",
    "from tensorflow.keras.preprocessing.sequence import pad_sequences\n",
    "from tensorflow.keras.layers import Embedding, Masking, Lambda, LSTM, Input\n",
    "from tensorflow.keras.models import Model"
   ]
  },
  {
   "cell_type": "code",
   "execution_count": 61,
   "id": "a956c718",
   "metadata": {},
   "outputs": [
    {
     "name": "stdout",
     "output_type": "stream",
     "text": [
      "[[ 711  632   71    0    0    0]\n",
      " [  73    8 3215   55  927    0]\n",
      " [  83   91    1  645 1253  927]]\n"
     ]
    }
   ],
   "source": [
    "raw_inputs = [\n",
    "    [711, 632, 71],\n",
    "    [73, 8, 3215, 55, 927],\n",
    "    [83, 91, 1, 645, 1253, 927],\n",
    "]\n",
    "\n",
    "padded_inputs = pad_sequences(raw_inputs, padding=\"post\")\n",
    "print(padded_inputs)\n"
   ]
  },
  {
   "cell_type": "markdown",
   "id": "310936b4",
   "metadata": {},
   "source": [
    "# ------------------------------------------------------------------\n",
    "# method 1: use support masking layer"
   ]
  },
  {
   "cell_type": "code",
   "execution_count": 62,
   "id": "f9847a44",
   "metadata": {},
   "outputs": [
    {
     "name": "stdout",
     "output_type": "stream",
     "text": [
      "tf.Tensor(\n",
      "[[-0.03207723  0.00389638]\n",
      " [ 0.03401626 -0.01618049]\n",
      " [-0.01414819  0.02728978]\n",
      " [ 0.01018701 -0.02727596]\n",
      " [ 0.01018701 -0.02727596]\n",
      " [ 0.01018701 -0.02727596]], shape=(6, 2), dtype=float32)\n"
     ]
    }
   ],
   "source": [
    "embedding = Embedding(input_dim=5000, output_dim=2, mask_zero=True)\n",
    "masked_output = embedding(padded_inputs)\n",
    "print(masked_output[0])\n",
    "# ??? not working ???"
   ]
  },
  {
   "cell_type": "markdown",
   "id": "8b1d4775",
   "metadata": {},
   "source": [
    "# ------------------------------------------------------------------\n",
    "# method 2: use masking layer"
   ]
  },
  {
   "cell_type": "code",
   "execution_count": 63,
   "id": "4a591d88",
   "metadata": {},
   "outputs": [
    {
     "name": "stdout",
     "output_type": "stream",
     "text": [
      "tf.Tensor(\n",
      "[[711. 711.]\n",
      " [632. 632.]\n",
      " [ 71.  71.]\n",
      " [  0.   0.]\n",
      " [  0.   0.]\n",
      " [  0.   0.]], shape=(6, 2), dtype=float32)\n"
     ]
    }
   ],
   "source": [
    "# Simulate the embedding lookup by expanding the 2D input to 3D,\n",
    "# with embedding dimension of 2.\n",
    "SimEmbedding = Lambda(lambda inputs: tf.cast(\n",
    "    tf.tile(tf.expand_dims(inputs, axis=-1), [1, 1, 2]), tf.float32\n",
    "))\n",
    "\n",
    "masked_output = SimEmbedding(padded_inputs)\n",
    "print(masked_output[0])"
   ]
  },
  {
   "cell_type": "code",
   "execution_count": 64,
   "id": "125248b8",
   "metadata": {},
   "outputs": [
    {
     "name": "stdout",
     "output_type": "stream",
     "text": [
      "<class 'tensorflow.python.framework.ops.EagerTensor'>\n"
     ]
    }
   ],
   "source": [
    "masking_layer = Masking()\n",
    "masked_embedding = masking_layer(masked_output)\n",
    "print(type(masked_output))"
   ]
  },
  {
   "cell_type": "code",
   "execution_count": null,
   "id": "3584e93e",
   "metadata": {},
   "outputs": [],
   "source": []
  }
 ],
 "metadata": {
  "kernelspec": {
   "display_name": "congyutf",
   "language": "python",
   "name": "congyutf"
  },
  "language_info": {
   "codemirror_mode": {
    "name": "ipython",
    "version": 3
   },
   "file_extension": ".py",
   "mimetype": "text/x-python",
   "name": "python",
   "nbconvert_exporter": "python",
   "pygments_lexer": "ipython3",
   "version": "3.9.5"
  }
 },
 "nbformat": 4,
 "nbformat_minor": 5
}
